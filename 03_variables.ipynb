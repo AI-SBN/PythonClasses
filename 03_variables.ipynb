{
 "cells": [
  {
   "cell_type": "code",
   "execution_count": 3,
   "id": "85160842",
   "metadata": {},
   "outputs": [],
   "source": [
    "myvar = \"John\"\n",
    "my_var = \"John\"\n",
    "_my_var = \"John\"\n",
    "myVar = \"John\"\n",
    "MYVAR = \"John\"\n",
    "myvar2 = \"John\""
   ]
  },
  {
   "cell_type": "code",
   "execution_count": null,
   "id": "4565e726",
   "metadata": {},
   "outputs": [],
   "source": [
    "#Assignment of multiple variables"
   ]
  },
  {
   "cell_type": "code",
   "execution_count": 4,
   "id": "fe76a068",
   "metadata": {},
   "outputs": [
    {
     "name": "stdout",
     "output_type": "stream",
     "text": [
      "Orange\n",
      "Banana\n",
      "Cherry\n"
     ]
    }
   ],
   "source": [
    "x, y, z = \"Orange\", \"Banana\", \"Cherry\"  # IN Python it is possible\n",
    "\n",
    "# IN C  we have to do like this\n",
    "# x =  \"Orange\"\n",
    "# y = \"Banana\"\n",
    "# z = \"Cherry\" \n",
    "\n",
    "print(x)\n",
    "print(y)\n",
    "print(z)"
   ]
  },
  {
   "cell_type": "code",
   "execution_count": 5,
   "id": "b00edf66",
   "metadata": {},
   "outputs": [
    {
     "name": "stdout",
     "output_type": "stream",
     "text": [
      "Orange\n",
      "Orange\n",
      "Orange\n"
     ]
    }
   ],
   "source": [
    "x = y = z = \"Orange\"\n",
    "print(x)\n",
    "print(y)\n",
    "print(z)"
   ]
  },
  {
   "cell_type": "code",
   "execution_count": null,
   "id": "8a2a9912",
   "metadata": {},
   "outputs": [],
   "source": [
    "#Unpack a Collection (List)"
   ]
  },
  {
   "cell_type": "code",
   "execution_count": 7,
   "id": "b670723e",
   "metadata": {},
   "outputs": [
    {
     "name": "stdout",
     "output_type": "stream",
     "text": [
      "apple\n",
      "banana\n",
      "cherry\n"
     ]
    }
   ],
   "source": [
    "fruits = [\"apple\", \"banana\", \"cherry\"] # Data Structure (Important) - List, tuple, sets, dictionary, tree, arrays, pandas, generators \n",
    "x, y, z = fruits\n",
    "print(x)\n",
    "print(y)\n",
    "print(z)"
   ]
  },
  {
   "cell_type": "code",
   "execution_count": null,
   "id": "9faad591",
   "metadata": {},
   "outputs": [],
   "source": [
    "#Inputs and Outputs"
   ]
  },
  {
   "cell_type": "code",
   "execution_count": 8,
   "id": "d9164562",
   "metadata": {},
   "outputs": [
    {
     "name": "stdout",
     "output_type": "stream",
     "text": [
      "456\n"
     ]
    }
   ],
   "source": [
    "x = input() # C - scanf(\"%d\",&x), C++ cin<<x, java -- Sys.in()"
   ]
  },
  {
   "cell_type": "code",
   "execution_count": 9,
   "id": "15a289fb",
   "metadata": {},
   "outputs": [
    {
     "name": "stdout",
     "output_type": "stream",
     "text": [
      "456\n"
     ]
    }
   ],
   "source": [
    "print(x)  # printf(x), cout>>x , system.out.println()"
   ]
  },
  {
   "cell_type": "code",
   "execution_count": 10,
   "id": "f45c3114",
   "metadata": {},
   "outputs": [
    {
     "name": "stdout",
     "output_type": "stream",
     "text": [
      "Python is awesome\n",
      "60\n"
     ]
    }
   ],
   "source": [
    "x = \"Python \"\n",
    "y = \"is \"\n",
    "z = \"awesome\"\n",
    "a = 10\n",
    "b = 20\n",
    "c = 30\n",
    "print(x + y + z) # concatenate - one object multiple properties - Polymorphism - operator overloading \n",
    "print(a + b + c) # actual addition"
   ]
  },
  {
   "cell_type": "code",
   "execution_count": null,
   "id": "a0822baa",
   "metadata": {},
   "outputs": [],
   "source": [
    "#Global and Local Variables"
   ]
  },
  {
   "cell_type": "code",
   "execution_count": 11,
   "id": "a184c01c",
   "metadata": {},
   "outputs": [
    {
     "name": "stdout",
     "output_type": "stream",
     "text": [
      "Python is awesome\n",
      "Number is 10\n",
      "Number is awesome\n",
      "Python is awesome\n",
      "Number is 20\n",
      "Python is is \n"
     ]
    }
   ],
   "source": [
    "x = \"awesome\"  # global Variable\n",
    "\n",
    "def myfunc1():\n",
    "    \n",
    "    y = 10\n",
    "    \n",
    "    print(\"Python is \" + x)\n",
    "    print(\"Number is \" + str(y))\n",
    "    print(\"Number is \" + str(z))    \n",
    "\n",
    "def myfunc2():\n",
    "    \n",
    "    z = 20\n",
    "    \n",
    "    print(\"Python is \" + x)\n",
    "    print(\"Number is \" + str(z))    \n",
    "    print(\"Python is \" + str(y))\n",
    "\n",
    "myfunc1()\n",
    "myfunc2()"
   ]
  },
  {
   "cell_type": "code",
   "execution_count": null,
   "id": "35008ede",
   "metadata": {},
   "outputs": [],
   "source": []
  }
 ],
 "metadata": {
  "kernelspec": {
   "display_name": "Python 3",
   "language": "python",
   "name": "python3"
  },
  "language_info": {
   "codemirror_mode": {
    "name": "ipython",
    "version": 3
   },
   "file_extension": ".py",
   "mimetype": "text/x-python",
   "name": "python",
   "nbconvert_exporter": "python",
   "pygments_lexer": "ipython3",
   "version": "3.8.8"
  }
 },
 "nbformat": 4,
 "nbformat_minor": 5
}
