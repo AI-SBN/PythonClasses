{
 "cells": [
  {
   "cell_type": "markdown",
   "id": "b74699cf",
   "metadata": {},
   "source": [
    "## Ascii values"
   ]
  },
  {
   "cell_type": "code",
   "execution_count": 2,
   "id": "8810017c",
   "metadata": {},
   "outputs": [
    {
     "name": "stdout",
     "output_type": "stream",
     "text": [
      "100\n"
     ]
    }
   ],
   "source": [
    "print(ord('d'))"
   ]
  },
  {
   "cell_type": "code",
   "execution_count": 7,
   "id": "65f9e718",
   "metadata": {},
   "outputs": [
    {
     "name": "stdout",
     "output_type": "stream",
     "text": [
      "F 70\n",
      "A 65\n",
      "I 73\n",
      "R 82\n",
      "O 79\n",
      "Z 90\n"
     ]
    }
   ],
   "source": [
    "for item in ['F','A','I','R','O','Z']:\n",
    "    print(item, ord(item))"
   ]
  },
  {
   "cell_type": "markdown",
   "id": "a702cea0",
   "metadata": {},
   "source": [
    "## Read inputs from terminal"
   ]
  },
  {
   "cell_type": "code",
   "execution_count": 11,
   "id": "8549e182",
   "metadata": {},
   "outputs": [
    {
     "name": "stdout",
     "output_type": "stream",
     "text": [
      "434\n",
      "343\n",
      "434 greater\n"
     ]
    }
   ],
   "source": [
    "a=int(input())\n",
    "b=int(input())\n",
    "\n",
    "if a>b:\n",
    "    print(a, \"greater\")\n",
    "else:\n",
    "    print(b, 'greater')"
   ]
  },
  {
   "cell_type": "code",
   "execution_count": 12,
   "id": "5cdf87e3",
   "metadata": {},
   "outputs": [
    {
     "name": "stdout",
     "output_type": "stream",
     "text": [
      "18\n",
      "17\n",
      "18 A is greater\n"
     ]
    }
   ],
   "source": [
    "A=int(input())\n",
    "B=int(input())\n",
    "\n",
    "if A>B:\n",
    "    print(A,\"A is greater\")\n",
    "else:\n",
    "    print(B,'B is greater')"
   ]
  },
  {
   "cell_type": "code",
   "execution_count": null,
   "id": "940d1b80",
   "metadata": {},
   "outputs": [],
   "source": []
  }
 ],
 "metadata": {
  "kernelspec": {
   "display_name": "Python 3",
   "language": "python",
   "name": "python3"
  },
  "language_info": {
   "codemirror_mode": {
    "name": "ipython",
    "version": 3
   },
   "file_extension": ".py",
   "mimetype": "text/x-python",
   "name": "python",
   "nbconvert_exporter": "python",
   "pygments_lexer": "ipython3",
   "version": "3.8.8"
  }
 },
 "nbformat": 4,
 "nbformat_minor": 5
}
