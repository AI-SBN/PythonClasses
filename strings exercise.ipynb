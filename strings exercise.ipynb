{
 "cells": [
  {
   "cell_type": "code",
   "execution_count": 11,
   "id": "fb5e231e",
   "metadata": {},
   "outputs": [
    {
     "name": "stdout",
     "output_type": "stream",
     "text": [
      "no of vowels are:\n",
      "1\n",
      "no of vowels are:\n",
      "2\n",
      "no of vowels are:\n",
      "3\n",
      "no of vowels are:\n",
      "4\n",
      "no of vowels are:\n",
      "5\n",
      "no of vowels are:\n",
      "6\n",
      "no of vowels are:\n",
      "7\n",
      "no of vowels are:\n",
      "8\n",
      "no of vowels are:\n",
      "9\n",
      "no of vowels are:\n",
      "10\n",
      "no of vowels are:\n",
      "11\n",
      "no of vowels are:\n",
      "12\n"
     ]
    }
   ],
   "source": [
    "string_input=\"we are learning python programming daily\"\n",
    "vowels=0\n",
    "for i in string_input:\n",
    "    if(i=='a'or i=='e'or i=='i'or i=='o'or i=='u'):\n",
    "       vowels=vowels+1\n",
    "       print(\"no of vowels are:\")\n",
    "       print(vowels)\n",
    "       \n",
    "       "
   ]
  },
  {
   "cell_type": "code",
   "execution_count": 7,
   "id": "b35e694c",
   "metadata": {},
   "outputs": [
    {
     "ename": "SyntaxError",
     "evalue": "EOL while scanning string literal (1061271039.py, line 5)",
     "output_type": "error",
     "traceback": [
      "\u001b[1;36m  File \u001b[1;32m\"C:\\Users\\hp\\AppData\\Local\\Temp\\ipykernel_1592\\1061271039.py\"\u001b[1;36m, line \u001b[1;32m5\u001b[0m\n\u001b[1;33m    if(i=='a'or i=='e'or i=='i'or i=='o'or i=='u):\u001b[0m\n\u001b[1;37m                                                  ^\u001b[0m\n\u001b[1;31mSyntaxError\u001b[0m\u001b[1;31m:\u001b[0m EOL while scanning string literal\n"
     ]
    }
   ],
   "source": [
    "string_input=\"we are learning python programming daily\"\n",
    "vowels=0\n",
    "consonants=0\n",
    "for i in string:\n",
    "    if(i=='a'or i=='e'or i=='i'or i=='o'or i=='u):\n",
    "       vowels=vowels+1\n",
    "       else\n",
    "       consonants=consonants+1\n",
    "       print(\"no of vowels are:\")\n",
    "       print(vowels)\n",
    "       print(\"no of consonants\")\n",
    "       print(consonants)"
   ]
  },
  {
   "cell_type": "code",
   "execution_count": 2,
   "id": "914b439f",
   "metadata": {},
   "outputs": [
    {
     "ename": "IndentationError",
     "evalue": "unexpected indent (1313395047.py, line 3)",
     "output_type": "error",
     "traceback": [
      "\u001b[1;36m  File \u001b[1;32m\"C:\\Users\\hp\\AppData\\Local\\Temp\\ipykernel_10920\\1313395047.py\"\u001b[1;36m, line \u001b[1;32m3\u001b[0m\n\u001b[1;33m    for i in string:\u001b[0m\n\u001b[1;37m    ^\u001b[0m\n\u001b[1;31mIndentationError\u001b[0m\u001b[1;31m:\u001b[0m unexpected indent\n"
     ]
    }
   ],
   "source": [
    "string_input=\"we are learning python programming daily\"\n",
    "vowels=0\n",
    "    for i in string:\n",
    "    if(i=='a'or i=='e'or i=='i'or i=='o'or i=='u'):\n",
    "    print(\"no of vowels are:\")\n",
    "    print(vowels)\n",
    "       "
   ]
  },
  {
   "cell_type": "code",
   "execution_count": 3,
   "id": "f48a3eaf",
   "metadata": {},
   "outputs": [
    {
     "ename": "IndentationError",
     "evalue": "unexpected indent (1313395047.py, line 3)",
     "output_type": "error",
     "traceback": [
      "\u001b[1;36m  File \u001b[1;32m\"C:\\Users\\hp\\AppData\\Local\\Temp\\ipykernel_10920\\1313395047.py\"\u001b[1;36m, line \u001b[1;32m3\u001b[0m\n\u001b[1;33m    for i in string:\u001b[0m\n\u001b[1;37m    ^\u001b[0m\n\u001b[1;31mIndentationError\u001b[0m\u001b[1;31m:\u001b[0m unexpected indent\n"
     ]
    }
   ],
   "source": [
    "string_input=\"we are learning python programming daily\"\n",
    "vowels=0\n",
    "for i in string:\n",
    "    if(i=='a'or i=='e'or i=='i'or i=='o'or i=='u'):\n",
    "    print(\"no of vowels are:\")\n",
    "    print(vowels)\n",
    "       "
   ]
  },
  {
   "cell_type": "markdown",
   "id": "994c327f",
   "metadata": {},
   "source": [
    "Exercises"
   ]
  },
  {
   "cell_type": "markdown",
   "id": "001493b9",
   "metadata": {},
   "source": [
    "count number of vowels in a given string\n",
    "string_input = \"we are learning python programming daily\"\n",
    "\n",
    "vowels = ['a','e','i','o','u']\n",
    " string_input = \"we are learning python programming daily\"\n",
    " "
   ]
  },
  {
   "cell_type": "code",
   "execution_count": 9,
   "id": "a401bb8d",
   "metadata": {},
   "outputs": [
    {
     "name": "stdout",
     "output_type": "stream",
     "text": [
      "we are learning python programming daily"
     ]
    }
   ],
   "source": [
    "string_input=\"we are learning python programming daily\"\n",
    "for x in string_input:\n",
    "    print(x, end='')  # end = '\\n' by default"
   ]
  },
  {
   "cell_type": "code",
   "execution_count": 8,
   "id": "3b60ac41",
   "metadata": {},
   "outputs": [
    {
     "name": "stdout",
     "output_type": "stream",
     "text": [
      "12\n"
     ]
    }
   ],
   "source": [
    "string_input=\"we are learning python programming daily\"\n",
    "count = 0\n",
    "for x in string_input:\n",
    "    if x == 'a' or x == 'e' or x == 'i' or x == 'o' or x == 'u':\n",
    "        count = count + 1\n",
    "    \n",
    "print(count)"
   ]
  },
  {
   "cell_type": "code",
   "execution_count": 7,
   "id": "a5c11a9d",
   "metadata": {},
   "outputs": [
    {
     "name": "stdout",
     "output_type": "stream",
     "text": [
      "no of vowels are: 12\n",
      "no of consonants: 28\n"
     ]
    }
   ],
   "source": [
    "string_input=\"we are learning python programming daily\"\n",
    "\n",
    "count_vowels=0\n",
    "count_consonants=0\n",
    "\n",
    "for i in string_input:\n",
    "    \n",
    "    if(i=='a'or i=='e'or i=='i'or i=='o'or i=='u'):\n",
    "        count_vowels = count_vowels+1\n",
    "    else:\n",
    "        count_consonants = count_consonants+1\n",
    "\n",
    "print(\"no of vowels are:\", count_vowels)\n",
    "print(\"no of consonants:\", count_consonants)    "
   ]
  },
  {
   "cell_type": "markdown",
   "id": "f5214078",
   "metadata": {},
   "source": [
    "count number of students passed or failed from the list of marks ( above > 40 pass else fail)\n",
    "marks = [10,20,50,90,30,45,67, 77,55,66]"
   ]
  },
  {
   "cell_type": "code",
   "execution_count": 14,
   "id": "50f1c98a",
   "metadata": {},
   "outputs": [
    {
     "name": "stdout",
     "output_type": "stream",
     "text": [
      "Number of students passed: 7\n",
      "Number of students failed: 3\n"
     ]
    }
   ],
   "source": [
    "marks = [10, 20, 50, 90, 30, 45, 67, 77, 55, 66]\n",
    "passed = 0\n",
    "failed = 0\n",
    "\n",
    "for mark in marks:\n",
    "    if mark >= 40:\n",
    "        passed += 1\n",
    "    else:\n",
    "        failed += 1\n",
    "\n",
    "print(\"Number of students passed:\", passed)\n",
    "print(\"Number of students failed:\", failed)\n"
   ]
  },
  {
   "cell_type": "code",
   "execution_count": null,
   "id": "f124e180",
   "metadata": {},
   "outputs": [],
   "source": []
  }
 ],
 "metadata": {
  "kernelspec": {
   "display_name": "Python 3 (ipykernel)",
   "language": "python",
   "name": "python3"
  },
  "language_info": {
   "codemirror_mode": {
    "name": "ipython",
    "version": 3
   },
   "file_extension": ".py",
   "mimetype": "text/x-python",
   "name": "python",
   "nbconvert_exporter": "python",
   "pygments_lexer": "ipython3",
   "version": "3.9.13"
  }
 },
 "nbformat": 4,
 "nbformat_minor": 5
}
