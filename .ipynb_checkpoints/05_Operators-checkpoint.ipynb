{
 "cells": [
  {
   "cell_type": "markdown",
   "id": "d084fec0",
   "metadata": {},
   "source": [
    "# Operators"
   ]
  },
  {
   "cell_type": "markdown",
   "id": "fd6c020a",
   "metadata": {},
   "source": [
    "Operators are used to perform operations on variables and values."
   ]
  },
  {
   "cell_type": "markdown",
   "id": "bbbc3c1d",
   "metadata": {},
   "source": [
    "## Addition"
   ]
  },
  {
   "cell_type": "code",
   "execution_count": 3,
   "id": "6173506c",
   "metadata": {},
   "outputs": [
    {
     "name": "stdout",
     "output_type": "stream",
     "text": [
      "c24\n",
      "8\n",
      "13\n",
      "24\n"
     ]
    }
   ],
   "source": [
    "x = 5\n",
    "y = 3\n",
    "a = x + y\n",
    "b = a + x\n",
    "c = input(\"c\")\n",
    "print(a)\n",
    "print(b)\n",
    "print(c)\n"
   ]
  },
  {
   "cell_type": "markdown",
   "id": "a935322e",
   "metadata": {},
   "source": [
    "## Subtraction"
   ]
  },
  {
   "cell_type": "code",
   "execution_count": 4,
   "id": "ec90291c",
   "metadata": {},
   "outputs": [
    {
     "name": "stdout",
     "output_type": "stream",
     "text": [
      "2\n"
     ]
    }
   ],
   "source": [
    "x = 5\n",
    "y = 3\n",
    "\n",
    "print(x - y)\n"
   ]
  },
  {
   "cell_type": "markdown",
   "id": "d03453de",
   "metadata": {},
   "source": [
    "## \tMultiplication"
   ]
  },
  {
   "cell_type": "code",
   "execution_count": 5,
   "id": "e342b60b",
   "metadata": {},
   "outputs": [
    {
     "name": "stdout",
     "output_type": "stream",
     "text": [
      "15\n"
     ]
    }
   ],
   "source": [
    "x = 5\n",
    "y = 3\n",
    "\n",
    "print(x * y)\n"
   ]
  },
  {
   "cell_type": "markdown",
   "id": "a5a3fd12",
   "metadata": {},
   "source": [
    "## Division"
   ]
  },
  {
   "cell_type": "code",
   "execution_count": 6,
   "id": "b52049d4",
   "metadata": {},
   "outputs": [
    {
     "name": "stdout",
     "output_type": "stream",
     "text": [
      "4.0\n"
     ]
    }
   ],
   "source": [
    "x = 12\n",
    "y = 3\n",
    "\n",
    "print(x / y)\n"
   ]
  },
  {
   "cell_type": "markdown",
   "id": "6ffd952a",
   "metadata": {},
   "source": [
    "## Modulus"
   ]
  },
  {
   "cell_type": "code",
   "execution_count": 7,
   "id": "6539f2df",
   "metadata": {},
   "outputs": [
    {
     "name": "stdout",
     "output_type": "stream",
     "text": [
      "1\n"
     ]
    }
   ],
   "source": [
    "x = 5\n",
    "y = 2\n",
    "\n",
    "print(x % y)\n"
   ]
  },
  {
   "cell_type": "markdown",
   "id": "5cdcfcdd",
   "metadata": {},
   "source": [
    "## Exponentiation"
   ]
  },
  {
   "cell_type": "code",
   "execution_count": 8,
   "id": "d1a9688d",
   "metadata": {},
   "outputs": [
    {
     "name": "stdout",
     "output_type": "stream",
     "text": [
      "32\n"
     ]
    }
   ],
   "source": [
    "x = 2\n",
    "y = 5\n",
    "\n",
    "print(x ** y) #same as 2*2*2*2*2\n"
   ]
  },
  {
   "cell_type": "markdown",
   "id": "e4af3f66",
   "metadata": {},
   "source": [
    "## Floor division"
   ]
  },
  {
   "cell_type": "code",
   "execution_count": 9,
   "id": "044a5a73",
   "metadata": {},
   "outputs": [
    {
     "name": "stdout",
     "output_type": "stream",
     "text": [
      "7\n"
     ]
    }
   ],
   "source": [
    "x = 15\n",
    "y = 2\n",
    "\n",
    "print(x // y) #the floor division // rounds the result down to the nearest whole number\n"
   ]
  },
  {
   "cell_type": "markdown",
   "id": "2a8ec14b",
   "metadata": {},
   "source": [
    "# Python Assignment Operators"
   ]
  },
  {
   "cell_type": "markdown",
   "id": "52f0e556",
   "metadata": {},
   "source": [
    "### = operator"
   ]
  },
  {
   "cell_type": "code",
   "execution_count": 10,
   "id": "876cc2e5",
   "metadata": {},
   "outputs": [
    {
     "name": "stdout",
     "output_type": "stream",
     "text": [
      "5\n"
     ]
    }
   ],
   "source": [
    "x = 5\n",
    "\n",
    "print(x)\n"
   ]
  },
  {
   "cell_type": "markdown",
   "id": "33f8c090",
   "metadata": {},
   "source": [
    "### += operator"
   ]
  },
  {
   "cell_type": "code",
   "execution_count": 11,
   "id": "94045839",
   "metadata": {
    "scrolled": true
   },
   "outputs": [
    {
     "name": "stdout",
     "output_type": "stream",
     "text": [
      "8\n"
     ]
    }
   ],
   "source": [
    "x = 5\n",
    "\n",
    "x += 3\n",
    "\n",
    "print(x)"
   ]
  },
  {
   "cell_type": "markdown",
   "id": "2a249751",
   "metadata": {},
   "source": [
    "### -= operator"
   ]
  },
  {
   "cell_type": "code",
   "execution_count": 12,
   "id": "262d4a97",
   "metadata": {},
   "outputs": [
    {
     "name": "stdout",
     "output_type": "stream",
     "text": [
      "2\n"
     ]
    }
   ],
   "source": [
    "x = 5\n",
    "\n",
    "x -= 3\n",
    "\n",
    "print(x)"
   ]
  },
  {
   "cell_type": "markdown",
   "id": "c29d478c",
   "metadata": {},
   "source": [
    "### *= operator"
   ]
  },
  {
   "cell_type": "code",
   "execution_count": 13,
   "id": "05ddae3a",
   "metadata": {},
   "outputs": [
    {
     "name": "stdout",
     "output_type": "stream",
     "text": [
      "15\n"
     ]
    }
   ],
   "source": [
    "x = 5\n",
    "\n",
    "x *= 3\n",
    "\n",
    "print(x)"
   ]
  },
  {
   "cell_type": "markdown",
   "id": "c2772632",
   "metadata": {},
   "source": [
    "### /= operator"
   ]
  },
  {
   "cell_type": "code",
   "execution_count": 14,
   "id": "e9b4457a",
   "metadata": {},
   "outputs": [
    {
     "name": "stdout",
     "output_type": "stream",
     "text": [
      "1.6666666666666667\n"
     ]
    }
   ],
   "source": [
    "x = 5\n",
    "\n",
    "x /= 3\n",
    "\n",
    "print(x)"
   ]
  },
  {
   "cell_type": "markdown",
   "id": "136a06f8",
   "metadata": {},
   "source": [
    "### %= operator"
   ]
  },
  {
   "cell_type": "code",
   "execution_count": 15,
   "id": "d985151a",
   "metadata": {},
   "outputs": [
    {
     "name": "stdout",
     "output_type": "stream",
     "text": [
      "2\n"
     ]
    }
   ],
   "source": [
    "x = 5\n",
    "\n",
    "x%=3\n",
    "\n",
    "print(x)\n"
   ]
  },
  {
   "cell_type": "markdown",
   "id": "841a75ec",
   "metadata": {},
   "source": [
    "### //= operator"
   ]
  },
  {
   "cell_type": "code",
   "execution_count": 16,
   "id": "ecad49af",
   "metadata": {},
   "outputs": [
    {
     "name": "stdout",
     "output_type": "stream",
     "text": [
      "1\n"
     ]
    }
   ],
   "source": [
    "x = 5\n",
    "\n",
    "x//=3\n",
    "\n",
    "print(x)\n"
   ]
  },
  {
   "cell_type": "markdown",
   "id": "04f17469",
   "metadata": {},
   "source": [
    "### **= operator"
   ]
  },
  {
   "cell_type": "code",
   "execution_count": 17,
   "id": "d5792129",
   "metadata": {},
   "outputs": [
    {
     "name": "stdout",
     "output_type": "stream",
     "text": [
      "125\n"
     ]
    }
   ],
   "source": [
    "x = 5\n",
    "\n",
    "x **= 3\n",
    "\n",
    "print(x)\n"
   ]
  },
  {
   "cell_type": "markdown",
   "id": "f20a7d7a",
   "metadata": {},
   "source": [
    "### &= operator"
   ]
  },
  {
   "cell_type": "code",
   "execution_count": 18,
   "id": "a3a6d1db",
   "metadata": {},
   "outputs": [
    {
     "name": "stdout",
     "output_type": "stream",
     "text": [
      "1\n"
     ]
    }
   ],
   "source": [
    "x = 5\n",
    "\n",
    "x &= 3\n",
    "\n",
    "print(x)\n"
   ]
  },
  {
   "cell_type": "markdown",
   "id": "85341ffe",
   "metadata": {},
   "source": [
    "### |= operator"
   ]
  },
  {
   "cell_type": "code",
   "execution_count": 19,
   "id": "9319ddc3",
   "metadata": {},
   "outputs": [
    {
     "name": "stdout",
     "output_type": "stream",
     "text": [
      "7\n"
     ]
    }
   ],
   "source": [
    "x = 5\n",
    "\n",
    "x |= 3\n",
    "\n",
    "print(x)\n"
   ]
  },
  {
   "cell_type": "markdown",
   "id": "3b9a9d48",
   "metadata": {},
   "source": [
    "### ^= operator"
   ]
  },
  {
   "cell_type": "code",
   "execution_count": 20,
   "id": "59d9578a",
   "metadata": {},
   "outputs": [
    {
     "name": "stdout",
     "output_type": "stream",
     "text": [
      "6\n"
     ]
    }
   ],
   "source": [
    "x = 5\n",
    "\n",
    "x ^= 3\n",
    "\n",
    "print(x)\n"
   ]
  },
  {
   "cell_type": "markdown",
   "id": "171023b3",
   "metadata": {},
   "source": [
    "### >>= operator"
   ]
  },
  {
   "cell_type": "code",
   "execution_count": 21,
   "id": "b4892a44",
   "metadata": {},
   "outputs": [
    {
     "name": "stdout",
     "output_type": "stream",
     "text": [
      "0\n"
     ]
    }
   ],
   "source": [
    "x = 5\n",
    "\n",
    "x >>= 3\n",
    "\n",
    "print(x)"
   ]
  },
  {
   "cell_type": "markdown",
   "id": "debba329",
   "metadata": {},
   "source": [
    "### <<= operator"
   ]
  },
  {
   "cell_type": "code",
   "execution_count": 22,
   "id": "1ffbd8cf",
   "metadata": {},
   "outputs": [
    {
     "name": "stdout",
     "output_type": "stream",
     "text": [
      "40\n"
     ]
    }
   ],
   "source": [
    "x = 5\n",
    "\n",
    "x <<= 3\n",
    "\n",
    "print(x)"
   ]
  }
 ],
 "metadata": {
  "kernelspec": {
   "display_name": "Python 3 (ipykernel)",
   "language": "python",
   "name": "python3"
  },
  "language_info": {
   "codemirror_mode": {
    "name": "ipython",
    "version": 3
   },
   "file_extension": ".py",
   "mimetype": "text/x-python",
   "name": "python",
   "nbconvert_exporter": "python",
   "pygments_lexer": "ipython3",
   "version": "3.10.9"
  }
 },
 "nbformat": 4,
 "nbformat_minor": 5
}
