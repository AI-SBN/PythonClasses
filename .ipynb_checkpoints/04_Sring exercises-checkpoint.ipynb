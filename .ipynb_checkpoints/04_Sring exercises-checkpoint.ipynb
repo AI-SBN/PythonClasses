{
 "cells": [
  {
   "cell_type": "markdown",
   "id": "b226aa1e",
   "metadata": {},
   "source": [
    "## Ascii Values"
   ]
  },
  {
   "cell_type": "code",
   "execution_count": 1,
   "id": "750559fa",
   "metadata": {},
   "outputs": [
    {
     "name": "stdout",
     "output_type": "stream",
     "text": [
      "65\n"
     ]
    }
   ],
   "source": [
    "# to print ascii values\n",
    "print(ord('A'))"
   ]
  },
  {
   "cell_type": "code",
   "execution_count": 2,
   "id": "58fd8de7",
   "metadata": {},
   "outputs": [
    {
     "name": "stdout",
     "output_type": "stream",
     "text": [
      "72\n"
     ]
    }
   ],
   "source": [
    "print(ord('H'))"
   ]
  },
  {
   "cell_type": "code",
   "execution_count": 3,
   "id": "0b7a77ef",
   "metadata": {},
   "outputs": [
    {
     "name": "stdout",
     "output_type": "stream",
     "text": [
      "121\n"
     ]
    }
   ],
   "source": [
    "print(ord('y'))"
   ]
  },
  {
   "cell_type": "code",
   "execution_count": 4,
   "id": "1031c651",
   "metadata": {},
   "outputs": [
    {
     "name": "stdout",
     "output_type": "stream",
     "text": [
      "55\n"
     ]
    }
   ],
   "source": [
    "print(ord('7'))"
   ]
  },
  {
   "cell_type": "code",
   "execution_count": 6,
   "id": "ac86b049",
   "metadata": {},
   "outputs": [
    {
     "name": "stdout",
     "output_type": "stream",
     "text": [
      "120\n"
     ]
    }
   ],
   "source": [
    "print(ord('x')) #,........................."
   ]
  },
  {
   "cell_type": "code",
   "execution_count": 7,
   "id": "b1038041",
   "metadata": {},
   "outputs": [
    {
     "name": "stdout",
     "output_type": "stream",
     "text": [
      "A 65\n",
      "B 66\n",
      "a 97\n",
      "b 98\n"
     ]
    }
   ],
   "source": [
    "for item in ['A', 'B', 'a','b']:\n",
    "    print(item, ord(item))\n"
   ]
  },
  {
   "cell_type": "code",
   "execution_count": 8,
   "id": "4a4c7ad4",
   "metadata": {},
   "outputs": [
    {
     "name": "stdout",
     "output_type": "stream",
     "text": [
      "x 120\n",
      "y 121\n",
      "z 122\n",
      "X 88\n",
      "Y 89\n",
      "Z 90\n"
     ]
    }
   ],
   "source": [
    "for item in ['x','y','z','X','Y','Z']:\n",
    "    print(item, ord(item))"
   ]
  },
  {
   "cell_type": "markdown",
   "id": "ffc1bf67",
   "metadata": {},
   "source": [
    "## Read inputs from Terminal"
   ]
  },
  {
   "cell_type": "code",
   "execution_count": 9,
   "id": "db13fb33",
   "metadata": {},
   "outputs": [
    {
     "name": "stdout",
     "output_type": "stream",
     "text": [
      "10\n",
      "90\n",
      "90 greater\n"
     ]
    }
   ],
   "source": [
    "a = input()\n",
    "b = input()\n",
    "\n",
    "if a>b :\n",
    "    print(a, \"greater\")\n",
    "else:\n",
    "    print(b, 'greater')\n"
   ]
  },
  {
   "cell_type": "code",
   "execution_count": null,
   "id": "76068640",
   "metadata": {},
   "outputs": [],
   "source": [
    "a = input()\n",
    "b = input()\n",
    "\n",
    "if a>b :\n",
    "    print(a, 'greater')\n",
    "else:\n",
    "    print(b, 'greater')"
   ]
  },
  {
   "cell_type": "code",
   "execution_count": null,
   "id": "3d2f9643",
   "metadata": {},
   "outputs": [],
   "source": [
    "a = input()\n",
    "b = input()\n",
    "\n",
    "a = input()\n",
    "b = input()\n",
    "\n",
    "if a>b :\n",
    "    print(a, 'greater')\n",
    "else:\n",
    "    print(b, 'greater')"
   ]
  },
  {
   "cell_type": "code",
   "execution_count": null,
   "id": "54bf5a9e",
   "metadata": {},
   "outputs": [],
   "source": [
    "\n",
    "\n",
    "\n",
    "\n",
    "\n",
    "\n",
    "\n"
   ]
  },
  {
   "cell_type": "code",
   "execution_count": null,
   "id": "06ce76b5",
   "metadata": {},
   "outputs": [],
   "source": [
    "\n",
    "\n"
   ]
  }
 ],
 "metadata": {
  "kernelspec": {
   "display_name": "Python 3 (ipykernel)",
   "language": "python",
   "name": "python3"
  },
  "language_info": {
   "codemirror_mode": {
    "name": "ipython",
    "version": 3
   },
   "file_extension": ".py",
   "mimetype": "text/x-python",
   "name": "python",
   "nbconvert_exporter": "python",
   "pygments_lexer": "ipython3",
   "version": "3.9.13"
  }
 },
 "nbformat": 4,
 "nbformat_minor": 5
}
