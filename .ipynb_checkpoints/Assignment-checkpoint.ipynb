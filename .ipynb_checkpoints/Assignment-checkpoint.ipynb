{
 "cells": [
  {
   "cell_type": "markdown",
   "id": "c2dbb241",
   "metadata": {},
   "source": [
    "3.count number of students passed or failed from the list of marks ( above > 40 pass else fail)"
   ]
  },
  {
   "cell_type": "markdown",
   "id": "319690ea",
   "metadata": {},
   "source": [
    "marks = [10,20,50,90,30,45,67, 77,55,66]"
   ]
  },
  {
   "cell_type": "code",
   "execution_count": 6,
   "id": "e54d8bf9",
   "metadata": {},
   "outputs": [
    {
     "name": "stdout",
     "output_type": "stream",
     "text": [
      "No of Students passed: 7\n",
      "No of Students failed: 6\n"
     ]
    }
   ],
   "source": [
    "marks = [10,20,50,90,30,45,67, 77,55,66]  # Values in given List\n",
    "count_pass=0                             # Variable count_pass is set to o before looping so that we can start count from 0  count_fail=0                             # Variable count_fail is set to o before looping so that we can start count from 0                     \n",
    "                                           # if we dont set 0 it might take counter whatever before it has set randomly\n",
    "for i in marks:                            #  pgm check i each times increments by counting either >= 40pass or <fail\n",
    "    if(i>=40):\n",
    "        count_pass=count_pass+1\n",
    "    else:\n",
    "        count_fail=count_fail+1\n",
    "\n",
    "print(\"No of Students passed:\", count_pass) #display no of students passed\n",
    "print(\"No of Students failed:\", count_fail) #display no of students passed"
   ]
  },
  {
   "cell_type": "code",
   "execution_count": null,
   "id": "62d36a13",
   "metadata": {},
   "outputs": [],
   "source": []
  },
  {
   "cell_type": "code",
   "execution_count": null,
   "id": "2eecc9a4",
   "metadata": {},
   "outputs": [],
   "source": []
  }
 ],
 "metadata": {
  "kernelspec": {
   "display_name": "Python 3 (ipykernel)",
   "language": "python",
   "name": "python3"
  },
  "language_info": {
   "codemirror_mode": {
    "name": "ipython",
    "version": 3
   },
   "file_extension": ".py",
   "mimetype": "text/x-python",
   "name": "python",
   "nbconvert_exporter": "python",
   "pygments_lexer": "ipython3",
   "version": "3.9.13"
  }
 },
 "nbformat": 4,
 "nbformat_minor": 5
}
