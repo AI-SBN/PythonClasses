{
 "cells": [
  {
   "cell_type": "markdown",
   "id": "d89f7bf2",
   "metadata": {},
   "source": [
    "STRINGS AS ARRAYS"
   ]
  },
  {
   "cell_type": "code",
   "execution_count": 2,
   "id": "a6951119",
   "metadata": {},
   "outputs": [
    {
     "name": "stdout",
     "output_type": "stream",
     "text": [
      ",\n"
     ]
    }
   ],
   "source": [
    "abc = \"Hello, World!\"\n",
    "print(abc[5]) "
   ]
  },
  {
   "cell_type": "code",
   "execution_count": 12,
   "id": "e132ba79",
   "metadata": {
    "scrolled": true
   },
   "outputs": [
    {
     "name": "stdout",
     "output_type": "stream",
     "text": [
      " at position - 0 and letter - H\n",
      " at position - 1 and letter - e\n",
      " at position - 2 and letter - l\n",
      " at position - 3 and letter - l\n",
      " at position - 4 and letter - o\n",
      " at position - 5 and letter - ,\n",
      " at position - 6 and letter -  \n",
      " at position - 7 and letter - W\n",
      " at position - 8 and letter - o\n",
      " at position - 9 and letter - r\n",
      " at position - 10 and letter - l\n",
      " at position - 11 and letter - d\n",
      " at position - 12 and letter - !\n"
     ]
    }
   ],
   "source": [
    "for i in range(0, len(abc)):\n",
    "    \n",
    "    print(f\" at position - {i} and letter - {abc[i]}\")     \n",
    "    "
   ]
  },
  {
   "cell_type": "markdown",
   "id": "53abe1d7",
   "metadata": {},
   "source": [
    "REVERSE INDEXING"
   ]
  },
  {
   "cell_type": "code",
   "execution_count": 15,
   "id": "eba1582e",
   "metadata": {},
   "outputs": [
    {
     "name": "stdout",
     "output_type": "stream",
     "text": [
      "!\n",
      "d\n",
      "l\n",
      "r\n",
      "o\n",
      "W\n",
      " \n",
      ",\n",
      "o\n",
      "l\n",
      "l\n",
      "e\n",
      "H\n"
     ]
    }
   ],
   "source": [
    "print(abc[-1])\n",
    "print(abc[-2])\n",
    "print(abc[-3])\n",
    "print(abc[-4])\n",
    "print(abc[-5])\n",
    "print(abc[-6])\n",
    "print(abc[-7])\n",
    "print(abc[-8])\n",
    "print(abc[-9])\n",
    "print(abc[-10])\n",
    "print(abc[-11])\n",
    "print(abc[-12])\n",
    "print(abc[-13])"
   ]
  },
  {
   "cell_type": "code",
   "execution_count": 17,
   "id": "d10ee45d",
   "metadata": {},
   "outputs": [
    {
     "name": "stdout",
     "output_type": "stream",
     "text": [
      "t\n",
      "r\n",
      "e\n",
      "e\n"
     ]
    }
   ],
   "source": [
    "for x in \"tree\":\n",
    "    print(x)  # indentation "
   ]
  },
  {
   "cell_type": "code",
   "execution_count": 18,
   "id": "03159732",
   "metadata": {},
   "outputs": [
    {
     "name": "stdout",
     "output_type": "stream",
     "text": [
      "t  r  e  e  "
     ]
    }
   ],
   "source": [
    "for x in \"tree\":\n",
    "    print(x, end='  ')  # shift + tab "
   ]
  },
  {
   "cell_type": "markdown",
   "id": "c152927c",
   "metadata": {},
   "source": [
    "CHECKING STRING"
   ]
  },
  {
   "cell_type": "code",
   "execution_count": 20,
   "id": "943df48d",
   "metadata": {},
   "outputs": [
    {
     "name": "stdout",
     "output_type": "stream",
     "text": [
      "False\n"
     ]
    }
   ],
   "source": [
    "txt = \"Python is very easy language\"  # main string\n",
    "\n",
    "print(\"free\" in txt)"
   ]
  },
  {
   "cell_type": "code",
   "execution_count": 21,
   "id": "17c353b0",
   "metadata": {},
   "outputs": [
    {
     "name": "stdout",
     "output_type": "stream",
     "text": [
      "True\n"
     ]
    }
   ],
   "source": [
    "txt = \"Python is very easy language\"  # main string\n",
    "\n",
    "print(\" \" in txt)"
   ]
  },
  {
   "cell_type": "code",
   "execution_count": 22,
   "id": "76652611",
   "metadata": {},
   "outputs": [
    {
     "name": "stdout",
     "output_type": "stream",
     "text": [
      "True\n"
     ]
    }
   ],
   "source": [
    "txt = \"Python is very easy language\"  # main string\n",
    "\n",
    "print(\" easy \" in txt)"
   ]
  },
  {
   "cell_type": "markdown",
   "id": "972688eb",
   "metadata": {},
   "source": [
    "Inputting from Keyboard"
   ]
  },
  {
   "cell_type": "code",
   "execution_count": 23,
   "id": "68055dc8",
   "metadata": {},
   "outputs": [
    {
     "name": "stdout",
     "output_type": "stream",
     "text": [
      "difficult\n",
      "NO,  string is not present.\n"
     ]
    }
   ],
   "source": [
    "txt = \"Python is very easy language\" \n",
    "\n",
    "x = input()   # reading input from user\n",
    "\n",
    "if x in txt:\n",
    "    print(\"Yes, string is present.\") \n",
    "else:\n",
    "    print(\"NO,  string is not present.\")"
   ]
  },
  {
   "cell_type": "code",
   "execution_count": 24,
   "id": "bc12cb3c",
   "metadata": {},
   "outputs": [
    {
     "name": "stdout",
     "output_type": "stream",
     "text": [
      "easy\n",
      "Yes, string is present.\n"
     ]
    }
   ],
   "source": [
    "txt = \"Python is very easy language\" \n",
    "\n",
    "x = input()   # reading input from user\n",
    "\n",
    "if x in txt:\n",
    "    print(\"Yes, string is present.\") \n",
    "else:\n",
    "    print(\"NO,  string is not present.\")"
   ]
  },
  {
   "cell_type": "code",
   "execution_count": 25,
   "id": "f4b677ac",
   "metadata": {},
   "outputs": [
    {
     "name": "stdout",
     "output_type": "stream",
     "text": [
      "\" \"\n",
      "NO,  string is not present.\n"
     ]
    }
   ],
   "source": [
    "txt = \"Python is very easy language\" \n",
    "\n",
    "x = input()   # reading input from user\n",
    "\n",
    "if x in txt:\n",
    "    print(\"Yes, string is present.\") \n",
    "else:\n",
    "    print(\"NO,  string is not present.\")"
   ]
  },
  {
   "cell_type": "code",
   "execution_count": 26,
   "id": "b3e64400",
   "metadata": {},
   "outputs": [
    {
     "name": "stdout",
     "output_type": "stream",
     "text": [
      "\n",
      "Yes, string is present.\n"
     ]
    }
   ],
   "source": [
    "txt = \"Python is very easy language\" \n",
    "\n",
    "x = input()   # reading input from user\n",
    "\n",
    "if x in txt:\n",
    "    print(\"Yes, string is present.\") \n",
    "else:\n",
    "    print(\"NO,  string is not present.\")"
   ]
  },
  {
   "cell_type": "code",
   "execution_count": 27,
   "id": "59e20e70",
   "metadata": {},
   "outputs": [
    {
     "name": "stdout",
     "output_type": "stream",
     "text": [
      "close\n",
      "NO, close is not present.\n"
     ]
    }
   ],
   "source": [
    "txt = \"Python is open source tool!\"\n",
    "\n",
    "x = input()   # reading input from user\n",
    "\n",
    "if x in txt:\n",
    "    print(f\"Yes, {x}  is present.\") \n",
    "else:\n",
    "    print(f\"NO, {x} is not present.\")"
   ]
  },
  {
   "cell_type": "code",
   "execution_count": 28,
   "id": "918d5f8e",
   "metadata": {},
   "outputs": [
    {
     "name": "stdout",
     "output_type": "stream",
     "text": [
      "opeh\n",
      "NO, opeh is not present.\n"
     ]
    }
   ],
   "source": [
    "txt = \"Python is open source tool!\"\n",
    "\n",
    "x = input()   # reading input from user\n",
    "\n",
    "if x in txt:\n",
    "    print(f\"Yes, {x}  is present.\") \n",
    "else:\n",
    "    print(f\"NO, {x} is not present.\")"
   ]
  },
  {
   "cell_type": "code",
   "execution_count": 29,
   "id": "4b98d86b",
   "metadata": {},
   "outputs": [
    {
     "name": "stdout",
     "output_type": "stream",
     "text": [
      "open\n",
      "Yes, open  is present.\n"
     ]
    }
   ],
   "source": [
    "txt = \"Python is open source tool!\"\n",
    "\n",
    "x = input()   # reading input from user\n",
    "\n",
    "if x in txt:\n",
    "    print(f\"Yes, {x}  is present.\") \n",
    "else:\n",
    "    print(f\"NO, {x} is not present.\")"
   ]
  },
  {
   "cell_type": "code",
   "execution_count": 30,
   "id": "fcdaa3a2",
   "metadata": {},
   "outputs": [
    {
     "name": "stdout",
     "output_type": "stream",
     "text": [
      "\" \"\n",
      "NO, \" \" is not present.\n"
     ]
    }
   ],
   "source": [
    "txt = \"Python is open source tool!\"\n",
    "\n",
    "x = input()   # reading input from user\n",
    "\n",
    "if x in txt:\n",
    "    print(f\"Yes, {x}  is present.\") \n",
    "else:\n",
    "    print(f\"NO, {x} is not present.\")"
   ]
  },
  {
   "cell_type": "code",
   "execution_count": 31,
   "id": "8cd0a513",
   "metadata": {},
   "outputs": [
    {
     "name": "stdout",
     "output_type": "stream",
     "text": [
      "\n",
      "Yes,   is present.\n"
     ]
    }
   ],
   "source": [
    "txt = \"Python is open source tool!\"\n",
    "\n",
    "x = input()   # reading input from user\n",
    "\n",
    "if x in txt:\n",
    "    print(f\"Yes, {x}  is present.\") \n",
    "else:\n",
    "    print(f\"NO, {x} is not present.\")"
   ]
  },
  {
   "cell_type": "markdown",
   "id": "90243f3e",
   "metadata": {},
   "source": [
    "NOT IN"
   ]
  },
  {
   "cell_type": "code",
   "execution_count": 33,
   "id": "61de11fe",
   "metadata": {},
   "outputs": [
    {
     "name": "stdout",
     "output_type": "stream",
     "text": [
      "True\n"
     ]
    }
   ],
   "source": [
    "txt = \"Python is case sensitive!\"\n",
    "print(\"expensive\" not in txt)"
   ]
  },
  {
   "cell_type": "code",
   "execution_count": 34,
   "id": "9c8eafd6",
   "metadata": {},
   "outputs": [
    {
     "name": "stdout",
     "output_type": "stream",
     "text": [
      "False\n"
     ]
    }
   ],
   "source": [
    "txt = \"Python is case sensitive!\"\n",
    "print(\"sensitive\" not in txt)"
   ]
  },
  {
   "cell_type": "code",
   "execution_count": null,
   "id": "26869936",
   "metadata": {},
   "outputs": [],
   "source": []
  }
 ],
 "metadata": {
  "kernelspec": {
   "display_name": "Python 3 (ipykernel)",
   "language": "python",
   "name": "python3"
  },
  "language_info": {
   "codemirror_mode": {
    "name": "ipython",
    "version": 3
   },
   "file_extension": ".py",
   "mimetype": "text/x-python",
   "name": "python",
   "nbconvert_exporter": "python",
   "pygments_lexer": "ipython3",
   "version": "3.9.13"
  }
 },
 "nbformat": 4,
 "nbformat_minor": 5
}
