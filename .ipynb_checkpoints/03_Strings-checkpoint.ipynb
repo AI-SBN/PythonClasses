{
 "cells": [
  {
   "cell_type": "code",
   "execution_count": 1,
   "id": "c6fbd457",
   "metadata": {},
   "outputs": [],
   "source": [
    "###Strings"
   ]
  },
  {
   "cell_type": "code",
   "execution_count": 2,
   "id": "d7cf2ebe",
   "metadata": {},
   "outputs": [
    {
     "name": "stdout",
     "output_type": "stream",
     "text": [
      "Hello\n",
      "Hello\n"
     ]
    }
   ],
   "source": [
    "print(\"Hello\") # double inverted qoutes\n",
    "print('Hello') # single inverted qoutes Press shift + enter\n"
   ]
  },
  {
   "cell_type": "code",
   "execution_count": 3,
   "id": "1d375249",
   "metadata": {},
   "outputs": [
    {
     "name": "stdout",
     "output_type": "stream",
     "text": [
      "Hello\n"
     ]
    }
   ],
   "source": [
    "a = \"Hello\"\n",
    "print(a)\n"
   ]
  },
  {
   "cell_type": "code",
   "execution_count": 1,
   "id": "66ded690",
   "metadata": {},
   "outputs": [],
   "source": [
    "###2 ways to write multiline strings"
   ]
  },
  {
   "cell_type": "code",
   "execution_count": 2,
   "id": "f33e406e",
   "metadata": {},
   "outputs": [],
   "source": [
    "##Way-1"
   ]
  },
  {
   "cell_type": "code",
   "execution_count": 4,
   "id": "2bfc23fd",
   "metadata": {},
   "outputs": [
    {
     "name": "stdout",
     "output_type": "stream",
     "text": [
      "Lorem ipsum dolor sit amet,consectetur adipiscing elit,sed do eiusmod tempor incididunt ut labore et dolore magna aliqua.\n"
     ]
    }
   ],
   "source": [
    "a = \"Lorem ipsum dolor sit amet,\\\n",
    "consectetur adipiscing elit,\\\n",
    "sed do eiusmod tempor incididunt \\\n",
    "ut labore et dolore magna aliqua.\" \n",
    "print(a)\n"
   ]
  },
  {
   "cell_type": "code",
   "execution_count": 5,
   "id": "285d227d",
   "metadata": {},
   "outputs": [],
   "source": [
    "##Way-2"
   ]
  },
  {
   "cell_type": "code",
   "execution_count": 6,
   "id": "b868d678",
   "metadata": {},
   "outputs": [
    {
     "name": "stdout",
     "output_type": "stream",
     "text": [
      "Lorem ipsum dolor sit amet,\n",
      "consectetur adipiscing elit,\n",
      "sed do eiusmod tempor incididunt\n",
      "ut labore et dolore magna aliqua.\n"
     ]
    }
   ],
   "source": [
    "a = \"\"\"Lorem ipsum dolor sit amet,\n",
    "consectetur adipiscing elit,\n",
    "sed do eiusmod tempor incididunt\n",
    "ut labore et dolore magna aliqua.\"\"\"\n",
    "print(a)\n"
   ]
  },
  {
   "cell_type": "code",
   "execution_count": 7,
   "id": "7bb6acf1",
   "metadata": {},
   "outputs": [
    {
     "name": "stdout",
     "output_type": "stream",
     "text": [
      "Lorem ipsum dolor sit amet,\b consectetur adipiscing elit\n"
     ]
    }
   ],
   "source": [
    "a = \"Lorem ipsum dolor sit amet,\\b consectetur adipiscing elit\"\n",
    "\n",
    "print(a)"
   ]
  },
  {
   "cell_type": "code",
   "execution_count": 8,
   "id": "9b695975",
   "metadata": {},
   "outputs": [],
   "source": [
    "###Strings are Arrays ( NUmPY visit)\n",
    "#array is a data structure (imp) which stores a collection of homgogeneous or elements of similar data types"
   ]
  },
  {
   "cell_type": "code",
   "execution_count": 9,
   "id": "bf7e2489",
   "metadata": {},
   "outputs": [
    {
     "name": "stdout",
     "output_type": "stream",
     "text": [
      "e\n"
     ]
    }
   ],
   "source": [
    "a = \"Hello, World!\"  \n",
    "print(a[1])          #it will start count from 0,1,2,3,4,5,6,7,........."
   ]
  },
  {
   "cell_type": "code",
   "execution_count": 10,
   "id": "b0f69b42",
   "metadata": {},
   "outputs": [],
   "source": [
    "###not correct\n"
   ]
  },
  {
   "cell_type": "code",
   "execution_count": 13,
   "id": "c9500944",
   "metadata": {},
   "outputs": [
    {
     "name": "stdout",
     "output_type": "stream",
     "text": [
      " at position - i and letter - a[i]\n",
      " at position - i and letter - a[i]\n",
      " at position - i and letter - a[i]\n",
      " at position - i and letter - a[i]\n",
      " at position - i and letter - a[i]\n",
      " at position - i and letter - a[i]\n",
      " at position - i and letter - a[i]\n",
      " at position - i and letter - a[i]\n",
      " at position - i and letter - a[i]\n",
      " at position - i and letter - a[i]\n",
      " at position - i and letter - a[i]\n",
      " at position - i and letter - a[i]\n",
      " at position - i and letter - a[i]\n"
     ]
    }
   ],
   "source": [
    "for i in range(0, len(a)):      #what is mean by len(a) here ???          \n",
    "    \n",
    "    print(f\" at position - i and letter - a[i]\")     # variable"
   ]
  },
  {
   "cell_type": "code",
   "execution_count": 14,
   "id": "cb0866c6",
   "metadata": {},
   "outputs": [],
   "source": [
    "###correct"
   ]
  },
  {
   "cell_type": "code",
   "execution_count": 17,
   "id": "08101a44",
   "metadata": {},
   "outputs": [
    {
     "name": "stdout",
     "output_type": "stream",
     "text": [
      " at position - 0 and letter - H\n",
      " at position - 1 and letter - e\n",
      " at position - 2 and letter - l\n",
      " at position - 3 and letter - l\n",
      " at position - 4 and letter - o\n",
      " at position - 5 and letter - ,\n",
      " at position - 6 and letter -  \n",
      " at position - 7 and letter - W\n",
      " at position - 8 and letter - o\n",
      " at position - 9 and letter - r\n",
      " at position - 10 and letter - l\n",
      " at position - 11 and letter - d\n",
      " at position - 12 and letter - !\n"
     ]
    }
   ],
   "source": [
    "for i in range(0, len(a)):\n",
    "    \n",
    "    print(f\" at position - {i} and letter - {a[i]}\")     # variable\n",
    "\n",
    "##Not understod ??"
   ]
  },
  {
   "cell_type": "code",
   "execution_count": 18,
   "id": "648a3d82",
   "metadata": {},
   "outputs": [],
   "source": [
    "###Reverse indexing - ###important\n"
   ]
  },
  {
   "cell_type": "code",
   "execution_count": 19,
   "id": "7ad04830",
   "metadata": {},
   "outputs": [
    {
     "name": "stdout",
     "output_type": "stream",
     "text": [
      "!\n",
      "d\n",
      "l\n",
      "r\n"
     ]
    }
   ],
   "source": [
    "print(a[-1]) # a[10000] - a[-1]\n",
    "print(a[-2])\n",
    "print(a[-3])\n",
    "print(a[-4])\n"
   ]
  },
  {
   "cell_type": "code",
   "execution_count": 20,
   "id": "6e90f27c",
   "metadata": {},
   "outputs": [
    {
     "name": "stdout",
     "output_type": "stream",
     "text": [
      "b\n",
      "a\n",
      "n\n",
      "a\n",
      "n\n",
      "a\n",
      "********************\n",
      "b\n",
      "a\n",
      "n\n",
      "a\n",
      "n\n",
      "a\n"
     ]
    }
   ],
   "source": [
    "for x in \"banana\":\n",
    "    print(x)  # indentation \n",
    "\n",
    "print(\"*\"*20)\n",
    "x = \"banana\"\n",
    "for i in range(0, len(x)):\n",
    "    print(x[i])  # indentation \n"
   ]
  },
  {
   "cell_type": "code",
   "execution_count": 21,
   "id": "c1d4ebd2",
   "metadata": {},
   "outputs": [
    {
     "name": "stdout",
     "output_type": "stream",
     "text": [
      "b$$$a$$$n$$$a$$$n$$$a$$$"
     ]
    }
   ],
   "source": [
    "for x in \"banana\":\n",
    "    print(x, end='$$$')  # shift + tab \n"
   ]
  },
  {
   "cell_type": "code",
   "execution_count": 22,
   "id": "4e755924",
   "metadata": {},
   "outputs": [],
   "source": [
    "###Check string\n"
   ]
  },
  {
   "cell_type": "code",
   "execution_count": 23,
   "id": "0d8915b0",
   "metadata": {},
   "outputs": [
    {
     "name": "stdout",
     "output_type": "stream",
     "text": [
      "True\n"
     ]
    }
   ],
   "source": [
    "txt = \"The best things in life are free!\"  # main string\n",
    "\n",
    "print(\"free\" in txt)    # search operation\n"
   ]
  },
  {
   "cell_type": "code",
   "execution_count": 24,
   "id": "ed5ce948",
   "metadata": {},
   "outputs": [
    {
     "name": "stdout",
     "output_type": "stream",
     "text": [
      "False\n"
     ]
    }
   ],
   "source": [
    "txt = \"The best things in life are free!\"  # main string\n",
    "\n",
    "print(\"fire\" in txt)    # search operation\n"
   ]
  },
  {
   "cell_type": "code",
   "execution_count": 27,
   "id": "408be0c2",
   "metadata": {},
   "outputs": [
    {
     "name": "stdout",
     "output_type": "stream",
     "text": [
      "hai\n",
      "NO,  string is not present.\n"
     ]
    }
   ],
   "source": [
    "txt = \"The best things in life are free!\"\n",
    "\n",
    "x = input()   # reading input from user\n",
    "\n",
    "if x in txt:\n",
    "    print(\"Yes, string is present.\") \n",
    "else:\n",
    "    print(\"NO,  string is not present.\")"
   ]
  },
  {
   "cell_type": "code",
   "execution_count": 28,
   "id": "ae7bcec0",
   "metadata": {},
   "outputs": [
    {
     "name": "stdout",
     "output_type": "stream",
     "text": [
      "bye\n",
      "NO, bye is not present.\n"
     ]
    }
   ],
   "source": [
    "txt = \"The best things in life are free!\"\n",
    "\n",
    "x = input()   # reading input from user\n",
    "\n",
    "if x in txt:\n",
    "    print(f\"Yes, {x}  is present.\") \n",
    "else:\n",
    "    print(f\"NO, {x} is not present.\")\n"
   ]
  },
  {
   "cell_type": "code",
   "execution_count": 29,
   "id": "6a72f1ad",
   "metadata": {},
   "outputs": [],
   "source": [
    "###NOT IN"
   ]
  },
  {
   "cell_type": "code",
   "execution_count": 30,
   "id": "9d4e6c53",
   "metadata": {},
   "outputs": [
    {
     "name": "stdout",
     "output_type": "stream",
     "text": [
      "True\n"
     ]
    }
   ],
   "source": [
    "txt = \"The best things in life are free!\"\n",
    "print(\"expensive\" not in txt)\n"
   ]
  },
  {
   "cell_type": "code",
   "execution_count": 31,
   "id": "d5f0ed35",
   "metadata": {},
   "outputs": [
    {
     "name": "stdout",
     "output_type": "stream",
     "text": [
      "False\n"
     ]
    }
   ],
   "source": [
    "txt = \"The best things in life are free!\"\n",
    "print(\"best\" not in txt)"
   ]
  },
  {
   "cell_type": "code",
   "execution_count": 32,
   "id": "858dd248",
   "metadata": {},
   "outputs": [],
   "source": [
    "###Exercises\n",
    "#count number of vowels in a given string\n",
    "#string_input = \"we are learning python programming daily"
   ]
  },
  {
   "cell_type": "code",
   "execution_count": 33,
   "id": "83a50848",
   "metadata": {},
   "outputs": [],
   "source": [
    "vowels = ['a','e','i','o','u']\n"
   ]
  },
  {
   "cell_type": "code",
   "execution_count": 34,
   "id": "78ed58e5",
   "metadata": {},
   "outputs": [],
   "source": [
    "string_input = \"life is beutifull and mistearius, so never giveupp\""
   ]
  },
  {
   "cell_type": "code",
   "execution_count": 36,
   "id": "338f2e8c",
   "metadata": {},
   "outputs": [],
   "source": [
    "##MOHAN's CODE"
   ]
  },
  {
   "cell_type": "code",
   "execution_count": 37,
   "id": "e09a0bec",
   "metadata": {},
   "outputs": [
    {
     "name": "stdout",
     "output_type": "stream",
     "text": [
      "life is beutifull and mistearius, so never giveupp"
     ]
    }
   ],
   "source": [
    "for x in string_input:\n",
    "    print(x, end='')  # end = '\\n' by default"
   ]
  },
  {
   "cell_type": "code",
   "execution_count": 38,
   "id": "0db6081b",
   "metadata": {},
   "outputs": [
    {
     "name": "stdout",
     "output_type": "stream",
     "text": [
      "19\n"
     ]
    }
   ],
   "source": [
    "\n",
    "count = 0\n",
    "for x in string_input:\n",
    "   if x == 'a' or x == 'e' or x == 'i' or x == 'o' or x=='u' :\n",
    "     count = count + 1\n",
    "         \n",
    "print(count)        "
   ]
  },
  {
   "cell_type": "code",
   "execution_count": 42,
   "id": "6aa80ad8",
   "metadata": {},
   "outputs": [],
   "source": [
    "#2.count number of vowels and consonants in a given string\n",
    "#string_input = \"life is beutifull and mistearius, so never giveupp\"\n"
   ]
  },
  {
   "cell_type": "code",
   "execution_count": 45,
   "id": "f2a571f8",
   "metadata": {},
   "outputs": [
    {
     "name": "stdout",
     "output_type": "stream",
     "text": [
      "no of vowels are: 19\n",
      "no of consonants: 31\n"
     ]
    }
   ],
   "source": [
    "string_input = \"life is beutifull and mistearius, so never giveupp\" #dout ?? total mistake\n",
    "\n",
    "\n",
    "count_vowels=0\n",
    "count_consonants=0\n",
    "\n",
    "for i in string_input:\n",
    "    \n",
    "    if(i=='a'or i=='e'or i=='i'or i=='o'or i=='u'):\n",
    "        count_vowels = count_vowels+1\n",
    "    else:\n",
    "        count_consonants = count_consonants+1\n",
    "\n",
    "print(\"no of vowels are:\", count_vowels)\n",
    "print(\"no of consonants:\", count_consonants)"
   ]
  },
  {
   "cell_type": "code",
   "execution_count": 47,
   "id": "47b1d094",
   "metadata": {},
   "outputs": [],
   "source": [
    "#3.count number of students passed or failed from the list of marks ( above > 40 pass else fail)\n",
    "marks = [10,20,50,90,30,45,67, 77,55,66, 55, 99, 100]\n",
    "\n"
   ]
  },
  {
   "cell_type": "code",
   "execution_count": 49,
   "id": "f7a73fcc",
   "metadata": {},
   "outputs": [
    {
     "name": "stdout",
     "output_type": "stream",
     "text": [
      "number of students passed: 7\n",
      "number of students failed: 3\n"
     ]
    }
   ],
   "source": [
    "# line number display - esc followed L \n",
    "marks = [10, 20, 50, 90, 30, 45, 67, 77, 55, 66]  # input - list of marks \n",
    "\n",
    "passed = 0 \n",
    "failed = 0\n",
    "\n",
    "\n",
    "for mark in marks:\n",
    "    if mark >= 40:\n",
    "        passed += 1\n",
    "    else:\n",
    "        failed += 1 \n",
    "        \n",
    "        \n",
    "print(\"number of students passed:\", passed)\n",
    "print(\"number of students failed:\", failed)"
   ]
  },
  {
   "cell_type": "code",
   "execution_count": 51,
   "id": "0e8833dc",
   "metadata": {},
   "outputs": [],
   "source": [
    "#4.largest of 2 numbers"
   ]
  },
  {
   "cell_type": "code",
   "execution_count": 52,
   "id": "994584ca",
   "metadata": {},
   "outputs": [
    {
     "name": "stdout",
     "output_type": "stream",
     "text": [
      "20\n"
     ]
    }
   ],
   "source": [
    "a = 10\n",
    "b = 20\n",
    "\n",
    "greater = None\n",
    "if a > b :\n",
    "    greater = a\n",
    "else:\n",
    "    greater = b\n",
    "print(greater)"
   ]
  },
  {
   "cell_type": "code",
   "execution_count": 53,
   "id": "e687dcd7",
   "metadata": {},
   "outputs": [],
   "source": [
    "#5.largest of 3 numbers\n"
   ]
  },
  {
   "cell_type": "code",
   "execution_count": 54,
   "id": "936719e9",
   "metadata": {},
   "outputs": [
    {
     "data": {
      "text/plain": [
       "array(['ABC', 'BCA', 'MA'], dtype='<U3')"
      ]
     },
     "execution_count": 54,
     "metadata": {},
     "output_type": "execute_result"
    }
   ],
   "source": [
    "import numpy as np\n",
    "words = [\"ABC\", \"MA\", \"BCA\"]\n",
    "np.sort(words)\n"
   ]
  },
  {
   "cell_type": "code",
   "execution_count": 58,
   "id": "fb72e7ed",
   "metadata": {},
   "outputs": [
    {
     "name": "stdout",
     "output_type": "stream",
     "text": [
      "100\n",
      "769\n",
      "9\n",
      "greater number is ->  9\n"
     ]
    }
   ],
   "source": [
    "a = input() # wrong statement\n",
    "b = input() \n",
    "c = input() \n",
    "\n",
    "greater = None\n",
    "if a > b and a>c: \n",
    "    greater = a\n",
    "if b>a and b>c:\n",
    "    greater = b\n",
    "if c>a and c>b:\n",
    "    greater = c\n",
    "print(\"greater number is -> \", greater)"
   ]
  },
  {
   "cell_type": "code",
   "execution_count": 60,
   "id": "eab700ba",
   "metadata": {},
   "outputs": [
    {
     "name": "stdout",
     "output_type": "stream",
     "text": [
      "100\n",
      "769\n",
      "9\n",
      "greater number is -> 769\n"
     ]
    }
   ],
   "source": [
    "a = int(input())  #here we are coverting input() into int(input()), #variable\n",
    "b = int(input()) \n",
    "c = int(input()) \n",
    "\n",
    "greater = None\n",
    "if a > b and a > c:\n",
    "    greater = a\n",
    "if b > a and b > c:\n",
    "    greater = b \n",
    "if c>a and c>b:\n",
    "    greater = c\n",
    "    \n",
    "print(\"greater number is ->\", greater)    \n",
    "        \n",
    "    "
   ]
  },
  {
   "cell_type": "code",
   "execution_count": 61,
   "id": "d05d18ac",
   "metadata": {},
   "outputs": [],
   "source": [
    "#what is the ascii value of A"
   ]
  },
  {
   "cell_type": "code",
   "execution_count": 64,
   "id": "6bdf2ca2",
   "metadata": {},
   "outputs": [
    {
     "ename": "SyntaxError",
     "evalue": "invalid syntax (1948151055.py, line 8)",
     "output_type": "error",
     "traceback": [
      "\u001b[1;36m  File \u001b[1;32m\"C:\\Users\\Admin\\AppData\\Local\\Temp\\ipykernel_8176\\1948151055.py\"\u001b[1;36m, line \u001b[1;32m8\u001b[0m\n\u001b[1;33m    3 - ................\u001b[0m\n\u001b[1;37m           ^\u001b[0m\n\u001b[1;31mSyntaxError\u001b[0m\u001b[1;31m:\u001b[0m invalid syntax\n"
     ]
    }
   ],
   "source": [
    "            \n",
    "### it is about how the compiler reads the keys \n",
    "0 - 48\n",
    "\n",
    "1 - 49\n",
    "\n",
    "2 - 50\n",
    "\n",
    "3 - ................\n",
    "\n",
    "A - 65\n",
    "\n",
    "B - 66\n",
    "\n",
    "C - 67\n",
    "\n",
    "D -....................\n",
    "\n",
    "a 97\n",
    "\n",
    "b 98\n",
    "\n",
    "c 99\n",
    "\n",
    "d 100,..............."
   ]
  },
  {
   "cell_type": "code",
   "execution_count": null,
   "id": "8d4227b1",
   "metadata": {},
   "outputs": [],
   "source": []
  }
 ],
 "metadata": {
  "kernelspec": {
   "display_name": "Python 3 (ipykernel)",
   "language": "python",
   "name": "python3"
  },
  "language_info": {
   "codemirror_mode": {
    "name": "ipython",
    "version": 3
   },
   "file_extension": ".py",
   "mimetype": "text/x-python",
   "name": "python",
   "nbconvert_exporter": "python",
   "pygments_lexer": "ipython3",
   "version": "3.9.13"
  }
 },
 "nbformat": 4,
 "nbformat_minor": 5
}
