{
 "cells": [
  {
   "cell_type": "code",
   "execution_count": 1,
   "id": "3c2819c7",
   "metadata": {},
   "outputs": [
    {
     "name": "stdout",
     "output_type": "stream",
     "text": [
      "Hello\n",
      "Hello\n"
     ]
    }
   ],
   "source": [
    "print(\"Hello\") # double inverted qoutes\n",
    "print('Hello') # single inverted qoutes Press shift + enter"
   ]
  },
  {
   "cell_type": "code",
   "execution_count": 2,
   "id": "7705d255",
   "metadata": {},
   "outputs": [
    {
     "name": "stdout",
     "output_type": "stream",
     "text": [
      "Hello\n"
     ]
    }
   ],
   "source": [
    "a = \"Hello\"\n",
    "print(a)"
   ]
  },
  {
   "cell_type": "code",
   "execution_count": 3,
   "id": "9273a78e",
   "metadata": {},
   "outputs": [
    {
     "name": "stdout",
     "output_type": "stream",
     "text": [
      "Lorem ipsum dolor sit amet,consectetur adipiscing elit,sed do eiusmod tempor incididunt ut labore et dolore magna aliqua.\n"
     ]
    }
   ],
   "source": [
    "a = \"Lorem ipsum dolor sit amet,\\\n",
    "consectetur adipiscing elit,\\\n",
    "sed do eiusmod tempor incididunt \\\n",
    "ut labore et dolore magna aliqua.\" \n",
    "print(a)"
   ]
  },
  {
   "cell_type": "code",
   "execution_count": 4,
   "id": "84850bb8",
   "metadata": {},
   "outputs": [
    {
     "name": "stdout",
     "output_type": "stream",
     "text": [
      "Lorem ipsum dolor sit amet,\n",
      "consectetur adipiscing elit,\n",
      "sed do eiusmod tempor incididunt\n",
      "ut labore et dolore magna aliqua.\n"
     ]
    }
   ],
   "source": [
    "a = \"\"\"Lorem ipsum dolor sit amet,\n",
    "consectetur adipiscing elit,\n",
    "sed do eiusmod tempor incididunt\n",
    "ut labore et dolore magna aliqua.\"\"\"\n",
    "print(a)"
   ]
  },
  {
   "cell_type": "code",
   "execution_count": 5,
   "id": "9ba8e30a",
   "metadata": {},
   "outputs": [
    {
     "name": "stdout",
     "output_type": "stream",
     "text": [
      "Lorem ipsum dolor sit amet,\b consectetur adipiscing elit\n"
     ]
    }
   ],
   "source": [
    "a = \"Lorem ipsum dolor sit amet,\\b consectetur adipiscing elit\"\n",
    "\n",
    "print(a)"
   ]
  },
  {
   "cell_type": "code",
   "execution_count": 6,
   "id": "90c48254",
   "metadata": {},
   "outputs": [
    {
     "name": "stdout",
     "output_type": "stream",
     "text": [
      "e\n"
     ]
    }
   ],
   "source": [
    "a = \"Hello, World!\"  \n",
    "print(a[1]) "
   ]
  },
  {
   "cell_type": "code",
   "execution_count": 7,
   "id": "43820ab1",
   "metadata": {},
   "outputs": [
    {
     "name": "stdout",
     "output_type": "stream",
     "text": [
      " at position - i and letter - a[i]\n",
      " at position - i and letter - a[i]\n",
      " at position - i and letter - a[i]\n",
      " at position - i and letter - a[i]\n",
      " at position - i and letter - a[i]\n",
      " at position - i and letter - a[i]\n",
      " at position - i and letter - a[i]\n",
      " at position - i and letter - a[i]\n",
      " at position - i and letter - a[i]\n",
      " at position - i and letter - a[i]\n",
      " at position - i and letter - a[i]\n",
      " at position - i and letter - a[i]\n",
      " at position - i and letter - a[i]\n"
     ]
    }
   ],
   "source": [
    "#not correct\n",
    "for i in range(0, len(a)):\n",
    "    \n",
    "    print(f\" at position - i and letter - a[i]\")     # variable"
   ]
  },
  {
   "cell_type": "code",
   "execution_count": 8,
   "id": "a35ddc6e",
   "metadata": {},
   "outputs": [
    {
     "name": "stdout",
     "output_type": "stream",
     "text": [
      " at position - i and letter - H\n",
      " at position - i and letter - e\n",
      " at position - i and letter - l\n",
      " at position - i and letter - l\n",
      " at position - i and letter - o\n",
      " at position - i and letter - ,\n",
      " at position - i and letter -  \n",
      " at position - i and letter - W\n",
      " at position - i and letter - o\n",
      " at position - i and letter - r\n",
      " at position - i and letter - l\n",
      " at position - i and letter - d\n",
      " at position - i and letter - !\n"
     ]
    }
   ],
   "source": [
    "#correct\n",
    "for i in range(0, len(a)):\n",
    "    \n",
    "    print(f\" at position - i and letter - {a[i]}\")     # variable"
   ]
  },
  {
   "cell_type": "markdown",
   "id": "3fb03b2e",
   "metadata": {},
   "source": [
    "Reverse indexing - important\n"
   ]
  },
  {
   "cell_type": "code",
   "execution_count": 9,
   "id": "d01d65cb",
   "metadata": {},
   "outputs": [
    {
     "name": "stdout",
     "output_type": "stream",
     "text": [
      "!\n",
      "d\n",
      "l\n",
      "r\n"
     ]
    }
   ],
   "source": [
    "print(a[-1]) # a[10000] - a[-1]\n",
    "print(a[-2])\n",
    "print(a[-3])\n",
    "print(a[-4])"
   ]
  },
  {
   "cell_type": "code",
   "execution_count": 10,
   "id": "cee86421",
   "metadata": {},
   "outputs": [
    {
     "name": "stdout",
     "output_type": "stream",
     "text": [
      "b\n",
      "a\n",
      "n\n",
      "a\n",
      "n\n",
      "a\n",
      "********************\n",
      "b\n",
      "a\n",
      "n\n",
      "a\n",
      "n\n",
      "a\n"
     ]
    }
   ],
   "source": [
    "for x in \"banana\":\n",
    "    print(x)  # indentation \n",
    "\n",
    "print(\"*\"*20)\n",
    "x = \"banana\"\n",
    "for i in range(0, len(x)):\n",
    "    print(x[i])  # indentation "
   ]
  },
  {
   "cell_type": "code",
   "execution_count": 12,
   "id": "2afdd885",
   "metadata": {},
   "outputs": [
    {
     "name": "stdout",
     "output_type": "stream",
     "text": [
      "b$$$a$$$n$$$a$$$n$$$a$$$"
     ]
    }
   ],
   "source": [
    "for x in \"banana\":\n",
    "    print(x, end='$$$')  # shift + tab "
   ]
  },
  {
   "cell_type": "code",
   "execution_count": 13,
   "id": "d63401ad",
   "metadata": {},
   "outputs": [
    {
     "name": "stdout",
     "output_type": "stream",
     "text": [
      "True\n"
     ]
    }
   ],
   "source": [
    "#Check String\n",
    "txt = \"The best things in life are free!\"  # main string\n",
    "\n",
    "print(\"free\" in txt)    # search operation"
   ]
  },
  {
   "cell_type": "code",
   "execution_count": 14,
   "id": "5a95707d",
   "metadata": {},
   "outputs": [
    {
     "name": "stdout",
     "output_type": "stream",
     "text": [
      "False\n"
     ]
    }
   ],
   "source": [
    "txt = \"The best things in life are free!\"  # main string\n",
    "\n",
    "print(\"fire\" in txt)    # search operation"
   ]
  },
  {
   "cell_type": "code",
   "execution_count": 15,
   "id": "f2de22c6",
   "metadata": {},
   "outputs": [
    {
     "name": "stdout",
     "output_type": "stream",
     "text": [
      "23\n",
      "NO,  string is not present.\n"
     ]
    }
   ],
   "source": [
    "txt = \"The best things in life are free!\"\n",
    "\n",
    "x = input()   # reading input from user\n",
    "\n",
    "if x in txt:\n",
    "    print(\"Yes, string is present.\") \n",
    "else:\n",
    "    print(\"NO,  string is not present.\")"
   ]
  },
  {
   "cell_type": "code",
   "execution_count": 16,
   "id": "afa8cc8b",
   "metadata": {},
   "outputs": [
    {
     "name": "stdout",
     "output_type": "stream",
     "text": [
      "True\n"
     ]
    }
   ],
   "source": [
    "#not in \n",
    "txt = \"The best things in life are free!\"\n",
    "print(\"expensive\" not in txt)"
   ]
  },
  {
   "cell_type": "code",
   "execution_count": 17,
   "id": "0e14d70a",
   "metadata": {},
   "outputs": [
    {
     "name": "stdout",
     "output_type": "stream",
     "text": [
      "False\n"
     ]
    }
   ],
   "source": [
    "txt = \"The best things in life are free!\"\n",
    "print(\"best\" not in txt)"
   ]
  },
  {
   "cell_type": "code",
   "execution_count": 19,
   "id": "225456e1",
   "metadata": {},
   "outputs": [],
   "source": [
    "#Exercices\n",
    "#count number of vowels in a given string\n",
    "string_input = \"we are learning python programming daily\""
   ]
  },
  {
   "cell_type": "code",
   "execution_count": 20,
   "id": "3b5bd060",
   "metadata": {},
   "outputs": [],
   "source": [
    "vowels = ['a','e','i','o','u']"
   ]
  },
  {
   "cell_type": "code",
   "execution_count": 21,
   "id": "b2843f2f",
   "metadata": {},
   "outputs": [],
   "source": [
    "string_input = \"we are learning python programming daily\""
   ]
  },
  {
   "cell_type": "code",
   "execution_count": 22,
   "id": "709ba647",
   "metadata": {},
   "outputs": [
    {
     "name": "stdout",
     "output_type": "stream",
     "text": [
      "we are learning python programming daily"
     ]
    }
   ],
   "source": [
    "for x in string_input:\n",
    "    print(x, end='')  # end = '\\n' by default"
   ]
  },
  {
   "cell_type": "code",
   "execution_count": 23,
   "id": "49f00a71",
   "metadata": {},
   "outputs": [
    {
     "name": "stdout",
     "output_type": "stream",
     "text": [
      "12\n"
     ]
    }
   ],
   "source": [
    "count = 0\n",
    "for x in string_input:\n",
    "    if x == 'a' or x == 'e' or x == 'i' or x == 'o' or x == 'u':\n",
    "        count = count + 1\n",
    "    \n",
    "print(count)"
   ]
  },
  {
   "cell_type": "markdown",
   "id": "e9c56e99",
   "metadata": {},
   "source": [
    "string_input=\"we are learning python programming daily\"\n",
    "\n",
    "count_vowels=0\n",
    "count_consonants=0\n",
    "\n",
    "for i in string_input:\n",
    "    \n",
    "    if(i=='a'or i=='e'or i=='i'or i=='o'or i=='u'):\n",
    "        count_vowels = count_vowels+1\n",
    "    else:\n",
    "        count_consonants = count_consonants+1\n",
    "\n",
    "print(\"no of vowels are:\", count_vowels)\n",
    "print(\"no of consonants:\", count_consonants)     # esc + L will show you line numbers"
   ]
  },
  {
   "cell_type": "code",
   "execution_count": 25,
   "id": "a678fdb7",
   "metadata": {},
   "outputs": [
    {
     "ename": "SyntaxError",
     "evalue": "invalid syntax (817694857.py, line 1)",
     "output_type": "error",
     "traceback": [
      "\u001b[1;36m  Cell \u001b[1;32mIn[25], line 1\u001b[1;36m\u001b[0m\n\u001b[1;33m    count number of students passed or failed from the list of marks ( above > 40 pass else fail)\u001b[0m\n\u001b[1;37m          ^\u001b[0m\n\u001b[1;31mSyntaxError\u001b[0m\u001b[1;31m:\u001b[0m invalid syntax\n"
     ]
    }
   ],
   "source": [
    "count number of students passed or failed from the list of marks ( above > 40 pass else fail)\n",
    "marks = [10,20,50,90,30,45,67, 77,55,66, 55, 99, 100]"
   ]
  },
  {
   "cell_type": "code",
   "execution_count": 26,
   "id": "75fd6f2f",
   "metadata": {},
   "outputs": [
    {
     "name": "stdout",
     "output_type": "stream",
     "text": [
      "Number of students passed: 7\n",
      "Number of students failed: 3\n"
     ]
    }
   ],
   "source": [
    "# line number display - esc followed L \n",
    "marks = [10, 20, 50, 90, 30, 45, 67, 77, 55, 66]  # input - list of marks \n",
    "\n",
    "passed = 0 \n",
    "failed = 0\n",
    "\n",
    "for mark in marks: #10   20  50  90  30  ...........\n",
    "    if mark >= 40:\n",
    "        passed += 1 # 0  0    1   2  2   ...........\n",
    "    else:   \n",
    "        failed += 1 # 1  2    2   2   3  ...........\n",
    "    \n",
    "print(\"Number of students passed:\", passed)\n",
    "print(\"Number of students failed:\", failed)"
   ]
  },
  {
   "cell_type": "code",
   "execution_count": 27,
   "id": "f35af585",
   "metadata": {},
   "outputs": [
    {
     "name": "stdout",
     "output_type": "stream",
     "text": [
      "20\n"
     ]
    }
   ],
   "source": [
    "a = 10\n",
    "b = 20\n",
    "\n",
    "greater = None\n",
    "if a > b :\n",
    "    greater = a\n",
    "else:\n",
    "    greater = b\n",
    "print(greater)"
   ]
  },
  {
   "cell_type": "code",
   "execution_count": 28,
   "id": "aa205c49",
   "metadata": {},
   "outputs": [
    {
     "name": "stdout",
     "output_type": "stream",
     "text": [
      "34\n",
      "4\n",
      "5\n",
      "greater number is ->  5\n"
     ]
    }
   ],
   "source": [
    "a = input() # 100, 387, 9  strings\n",
    "b = input() # \n",
    "c = input() #\n",
    "\n",
    "greater = None\n",
    "if a > b and a>c: \n",
    "    greater = a\n",
    "if b>a and b>c:\n",
    "    greater = b\n",
    "if c>a and c>b:\n",
    "    greater = c\n",
    "print(\"greater number is -> \", greater)"
   ]
  }
 ],
 "metadata": {
  "kernelspec": {
   "display_name": "Python 3 (ipykernel)",
   "language": "python",
   "name": "python3"
  },
  "language_info": {
   "codemirror_mode": {
    "name": "ipython",
    "version": 3
   },
   "file_extension": ".py",
   "mimetype": "text/x-python",
   "name": "python",
   "nbconvert_exporter": "python",
   "pygments_lexer": "ipython3",
   "version": "3.10.9"
  }
 },
 "nbformat": 4,
 "nbformat_minor": 5
}
