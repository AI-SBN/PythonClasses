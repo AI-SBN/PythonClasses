{
 "cells": [
  {
   "cell_type": "markdown",
   "id": "f1b4f89d",
   "metadata": {},
   "source": [
    "## Boolen OPraters"
   ]
  },
  {
   "cell_type": "code",
   "execution_count": 1,
   "id": "c441331c",
   "metadata": {},
   "outputs": [
    {
     "name": "stdout",
     "output_type": "stream",
     "text": [
      "True\n",
      "False\n"
     ]
    }
   ],
   "source": [
    "print(True)  # do not use your variables as True \n",
    "print(False) \n"
   ]
  },
  {
   "cell_type": "code",
   "execution_count": 2,
   "id": "239384f4",
   "metadata": {},
   "outputs": [
    {
     "name": "stdout",
     "output_type": "stream",
     "text": [
      "True\n",
      "False\n",
      "False\n"
     ]
    }
   ],
   "source": [
    "print(10 > 9)\n",
    "print(10 == 9) \n",
    "print(10 < 9)\n"
   ]
  },
  {
   "cell_type": "code",
   "execution_count": 3,
   "id": "2810e929",
   "metadata": {},
   "outputs": [
    {
     "name": "stdout",
     "output_type": "stream",
     "text": [
      "b is not greater than a\n"
     ]
    }
   ],
   "source": [
    "a = 200\n",
    "b = 33\n",
    "\n",
    "if b > a: # boolean condition\n",
    "  print(\"b is greater than a\")\n",
    "else:\n",
    "  print(\"b is not greater than a\")"
   ]
  },
  {
   "cell_type": "code",
   "execution_count": 4,
   "id": "ef9b3604",
   "metadata": {},
   "outputs": [
    {
     "data": {
      "text/plain": [
       "True"
      ]
     },
     "execution_count": 4,
     "metadata": {},
     "output_type": "execute_result"
    }
   ],
   "source": [
    "a>b    # print mandotroty\n",
    "a==b   # print mandotroty\n",
    "b<a  # print optional \n"
   ]
  },
  {
   "cell_type": "code",
   "execution_count": 5,
   "id": "a8e8486a",
   "metadata": {},
   "outputs": [
    {
     "name": "stdout",
     "output_type": "stream",
     "text": [
      "True\n",
      "True\n"
     ]
    }
   ],
   "source": [
    "print(bool(\"Hello\"))\n",
    "print(bool(15))"
   ]
  },
  {
   "cell_type": "code",
   "execution_count": 6,
   "id": "dff09575",
   "metadata": {},
   "outputs": [
    {
     "name": "stdout",
     "output_type": "stream",
     "text": [
      "True\n",
      "True\n"
     ]
    }
   ],
   "source": [
    "x = \"Hello\"\n",
    "y = 15\n",
    "\n",
    "print(bool(x))\n",
    "print(bool(y))"
   ]
  },
  {
   "cell_type": "code",
   "execution_count": 7,
   "id": "aff88cd9",
   "metadata": {},
   "outputs": [
    {
     "name": "stdout",
     "output_type": "stream",
     "text": [
      "False\n",
      "False\n",
      "False\n",
      "False\n",
      "False\n",
      "False\n",
      "False\n"
     ]
    }
   ],
   "source": [
    "print(bool(False))\n",
    "print(bool(None)) # NA\n",
    "print(bool(0))\n",
    "print(bool(\"\")) # empty string\n",
    "print(bool(())) # empty tuple\n",
    "print(bool([])) # empty list\n",
    "print(bool({})) # empty dict"
   ]
  },
  {
   "cell_type": "code",
   "execution_count": 9,
   "id": "8f05b63e",
   "metadata": {},
   "outputs": [
    {
     "name": "stdout",
     "output_type": "stream",
     "text": [
      "True\n",
      "['x', 'y', 'z']\n",
      "False\n"
     ]
    }
   ],
   "source": [
    "list1 = ['x','y','z'] \n",
    "list2 = []\n",
    "\n",
    "print(bool(list1))\n",
    "print(list1)\n",
    "print(bool(list2)) #if there is any empty space in the input, it will show FALSE"
   ]
  },
  {
   "cell_type": "code",
   "execution_count": 10,
   "id": "3f445500",
   "metadata": {},
   "outputs": [
    {
     "name": "stdout",
     "output_type": "stream",
     "text": [
      "True\n",
      "False\n",
      "False\n"
     ]
    }
   ],
   "source": [
    "x = 200\n",
    "print(isinstance(x, int)) # isinstance C++ typeof()\n",
    "print(isinstance(x, str)) # isinstance \n",
    "print(isinstance(x, float)) # isinstance "
   ]
  },
  {
   "cell_type": "code",
   "execution_count": 11,
   "id": "207894f2",
   "metadata": {},
   "outputs": [
    {
     "name": "stdout",
     "output_type": "stream",
     "text": [
      "False\n",
      "True\n",
      "True\n",
      "False\n"
     ]
    }
   ],
   "source": [
    "def myFunction(x) :\n",
    "    # tab for indentation\n",
    "    if x > 10:\n",
    "        return True\n",
    "    else:\n",
    "        return False    \n",
    "\n",
    "print(myFunction(-5))\n",
    "print(myFunction(35))\n",
    "print(myFunction(999))\n",
    "print(myFunction(-900))"
   ]
  },
  {
   "cell_type": "code",
   "execution_count": 13,
   "id": "69f28ec9",
   "metadata": {},
   "outputs": [
    {
     "name": "stdout",
     "output_type": "stream",
     "text": [
      "False\n",
      "True\n",
      "True\n",
      "False\n"
     ]
    }
   ],
   "source": [
    "def myFuction(a):\n",
    "    if a < 8:\n",
    "        return True\n",
    "    else:\n",
    "        return False\n",
    "\n",
    "print(myFunction(3)) \n",
    "print(myFunction(98))\n",
    "print(myFunction(76))\n",
    "print(myFunction(-87))"
   ]
  },
  {
   "cell_type": "code",
   "execution_count": null,
   "id": "06ba84eb",
   "metadata": {},
   "outputs": [],
   "source": []
  }
 ],
 "metadata": {
  "kernelspec": {
   "display_name": "Python 3 (ipykernel)",
   "language": "python",
   "name": "python3"
  },
  "language_info": {
   "codemirror_mode": {
    "name": "ipython",
    "version": 3
   },
   "file_extension": ".py",
   "mimetype": "text/x-python",
   "name": "python",
   "nbconvert_exporter": "python",
   "pygments_lexer": "ipython3",
   "version": "3.9.13"
  }
 },
 "nbformat": 4,
 "nbformat_minor": 5
}
