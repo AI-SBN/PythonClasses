{
 "cells": [
  {
   "cell_type": "markdown",
   "id": "675b19de",
   "metadata": {},
   "source": [
    "### PROGRAMS ON STRINGS"
   ]
  },
  {
   "cell_type": "markdown",
   "id": "cdcce384",
   "metadata": {},
   "source": [
    "print(\"Hello\") # strings can use double inverted quotes & \n",
    "print('Hello') # single inverted quotes also Press shift + enter to get output(shortcut key)"
   ]
  },
  {
   "cell_type": "code",
   "execution_count": 3,
   "id": "c237f76d",
   "metadata": {},
   "outputs": [
    {
     "name": "stdout",
     "output_type": "stream",
     "text": [
      "Python Classes\n"
     ]
    }
   ],
   "source": [
    "a = 'Python Classes'\n",
    "print(a)"
   ]
  },
  {
   "cell_type": "code",
   "execution_count": 4,
   "id": "87618de8",
   "metadata": {},
   "outputs": [
    {
     "name": "stdout",
     "output_type": "stream",
     "text": [
      "classs on python\n"
     ]
    }
   ],
   "source": [
    "p='classs on python'\n",
    "print(p)"
   ]
  },
  {
   "cell_type": "markdown",
   "id": "c55e0791",
   "metadata": {},
   "source": [
    "DIFFERENT WAYS TO WRITE MULTILINE STRINGS"
   ]
  },
  {
   "cell_type": "markdown",
   "id": "17693897",
   "metadata": {},
   "source": [
    "IN SINGLE LINE"
   ]
  },
  {
   "cell_type": "code",
   "execution_count": 11,
   "id": "4b88189b",
   "metadata": {},
   "outputs": [
    {
     "name": "stdout",
     "output_type": "stream",
     "text": [
      "Python is an object-oriented programming language created by Guido Rossum in 1989,It is ideally designed for rapid prototyping of complex applications,It has interfaces to many OS system calls and libraries and is extensible to C or C++,Many large companies use the Python programming language, including NASA, Google, YouTube, BitTorrent, etc.\n"
     ]
    }
   ],
   "source": [
    "data = \"Python is an object-oriented programming language created by Guido Rossum in 1989,\\\n",
    "It is ideally designed for rapid prototyping of complex applications,\\\n",
    "It has interfaces to many OS system calls and libraries and is extensible to C or C++,\\\n",
    "Many large companies use the Python programming language, including NASA, Google, YouTube, BitTorrent, etc.\" \n",
    "print(data)"
   ]
  },
  {
   "cell_type": "markdown",
   "id": "ea00733f",
   "metadata": {},
   "source": [
    "IN MULTI LINE"
   ]
  },
  {
   "cell_type": "code",
   "execution_count": 14,
   "id": "83a69841",
   "metadata": {},
   "outputs": [
    {
     "name": "stdout",
     "output_type": "stream",
     "text": [
      "Python is an object-oriented programming language created by Guido Rossum in 1989,\n",
      "It is ideally designed for rapid prototyping of complex applications,\n",
      "It has interfaces to many OS system calls and libraries and is extensible to C or C++,\n",
      "Many large companies use the Python programming language, including NASA, Google, YouTube, BitTorrent, etc.\n"
     ]
    }
   ],
   "source": [
    "data = \"\"\"Python is an object-oriented programming language created by Guido Rossum in 1989,\n",
    "It is ideally designed for rapid prototyping of complex applications,\n",
    "It has interfaces to many OS system calls and libraries and is extensible to C or C++,\n",
    "Many large companies use the Python programming language, including NASA, Google, YouTube, BitTorrent, etc.\"\"\"\n",
    "print(data)"
   ]
  },
  {
   "cell_type": "code",
   "execution_count": null,
   "id": "74ff265e",
   "metadata": {},
   "outputs": [],
   "source": []
  }
 ],
 "metadata": {
  "kernelspec": {
   "display_name": "Python 3 (ipykernel)",
   "language": "python",
   "name": "python3"
  },
  "language_info": {
   "codemirror_mode": {
    "name": "ipython",
    "version": 3
   },
   "file_extension": ".py",
   "mimetype": "text/x-python",
   "name": "python",
   "nbconvert_exporter": "python",
   "pygments_lexer": "ipython3",
   "version": "3.9.13"
  }
 },
 "nbformat": 4,
 "nbformat_minor": 5
}
