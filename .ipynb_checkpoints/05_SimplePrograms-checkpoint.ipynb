{
 "cells": [
  {
   "cell_type": "markdown",
   "id": "83a1d87e",
   "metadata": {},
   "source": [
    "1.Program to print Simple Message"
   ]
  },
  {
   "cell_type": "code",
   "execution_count": 1,
   "id": "c4b5e744",
   "metadata": {},
   "outputs": [
    {
     "name": "stdout",
     "output_type": "stream",
     "text": [
      "Python is very easy language\n"
     ]
    }
   ],
   "source": [
    "print(\"Python is very easy language\")"
   ]
  },
  {
   "cell_type": "code",
   "execution_count": 2,
   "id": "4383cbf4",
   "metadata": {},
   "outputs": [
    {
     "name": "stdout",
     "output_type": "stream",
     "text": [
      "Python is Simple\n"
     ]
    }
   ],
   "source": [
    "text=(\"Python is Simple\")\n",
    "print(text)"
   ]
  },
  {
   "cell_type": "markdown",
   "id": "759a9bba",
   "metadata": {},
   "source": [
    "#Variables\n",
    "Variables are containers for storing data values."
   ]
  },
  {
   "cell_type": "markdown",
   "id": "b9fa6240",
   "metadata": {},
   "source": [
    "A variable is created the moment you first assign a value to it."
   ]
  },
  {
   "cell_type": "markdown",
   "id": "69d73dca",
   "metadata": {},
   "source": [
    "2.Printing Variables"
   ]
  },
  {
   "cell_type": "code",
   "execution_count": 3,
   "id": "9f1c2bb5",
   "metadata": {},
   "outputs": [
    {
     "name": "stdout",
     "output_type": "stream",
     "text": [
      "5\n",
      "John\n"
     ]
    }
   ],
   "source": [
    "x = 5\n",
    "y = \"John\"\n",
    "print(x)\n",
    "print(y)"
   ]
  },
  {
   "cell_type": "markdown",
   "id": "9d85bc08",
   "metadata": {},
   "source": [
    "3.Print Multiple Variable"
   ]
  },
  {
   "cell_type": "code",
   "execution_count": 4,
   "id": "a1e67c2d",
   "metadata": {},
   "outputs": [
    {
     "name": "stdout",
     "output_type": "stream",
     "text": [
      "Python is awesome\n"
     ]
    }
   ],
   "source": [
    "x = \"Python\"\n",
    "y = \"is\"\n",
    "z = \"awesome\"\n",
    "print(x, y, z)"
   ]
  },
  {
   "cell_type": "code",
   "execution_count": 5,
   "id": "fc617b9e",
   "metadata": {},
   "outputs": [
    {
     "name": "stdout",
     "output_type": "stream",
     "text": [
      "this is Apple\n"
     ]
    }
   ],
   "source": [
    "data='this'\n",
    "data1='is'\n",
    "data2=\"Apple\"\n",
    "print(data,data1,data2)"
   ]
  },
  {
   "cell_type": "markdown",
   "id": "93e08592",
   "metadata": {},
   "source": [
    "Adding variable value"
   ]
  },
  {
   "cell_type": "code",
   "execution_count": 8,
   "id": "73c626cf",
   "metadata": {},
   "outputs": [
    {
     "name": "stdout",
     "output_type": "stream",
     "text": [
      "python is simple\n"
     ]
    }
   ],
   "source": [
    "abc='python '\n",
    "dee='is '\n",
    "ghi=\"simple\"\n",
    "print(abc+dee+ghi)"
   ]
  },
  {
   "cell_type": "markdown",
   "id": "36642bea",
   "metadata": {},
   "source": [
    "Casting"
   ]
  },
  {
   "cell_type": "code",
   "execution_count": 10,
   "id": "0feb37f4",
   "metadata": {},
   "outputs": [
    {
     "name": "stdout",
     "output_type": "stream",
     "text": [
      "3\n",
      "3\n",
      "3.0\n"
     ]
    }
   ],
   "source": [
    "x = str(3)\n",
    "y = int(3)\n",
    "z = float(3)\n",
    "\n",
    "print(x)\n",
    "print(y)\n",
    "print(z)\n"
   ]
  },
  {
   "cell_type": "code",
   "execution_count": 11,
   "id": "c1824b87",
   "metadata": {},
   "outputs": [
    {
     "name": "stdout",
     "output_type": "stream",
     "text": [
      "<class 'int'>\n",
      "<class 'str'>\n"
     ]
    }
   ],
   "source": [
    "x=5\n",
    "y='Stefen'\n",
    "print(type(x))\n",
    "print(type(y))"
   ]
  },
  {
   "cell_type": "markdown",
   "id": "9edf6e42",
   "metadata": {},
   "source": [
    "String variables can be declared either by using single or double quotes:"
   ]
  },
  {
   "cell_type": "code",
   "execution_count": 12,
   "id": "27b357a4",
   "metadata": {},
   "outputs": [
    {
     "name": "stdout",
     "output_type": "stream",
     "text": [
      "slow\n",
      "fast\n"
     ]
    }
   ],
   "source": [
    "x='slow'\n",
    "y=\"fast\"\n",
    "print(x)\n",
    "print(y)"
   ]
  },
  {
   "cell_type": "markdown",
   "id": "baeda3ac",
   "metadata": {},
   "source": [
    "Many Values to Multiple Variables"
   ]
  },
  {
   "cell_type": "code",
   "execution_count": 13,
   "id": "04c0645d",
   "metadata": {},
   "outputs": [
    {
     "name": "stdout",
     "output_type": "stream",
     "text": [
      "Banana\n",
      "Mango\n",
      "Orange\n"
     ]
    }
   ],
   "source": [
    "x,y,z=\"Banana\",\"Mango\",\"Orange\"\n",
    "print(x)\n",
    "print(y)\n",
    "print(z)"
   ]
  },
  {
   "cell_type": "markdown",
   "id": "c15c55d3",
   "metadata": {},
   "source": [
    "One Value to Multiple Variables"
   ]
  },
  {
   "cell_type": "code",
   "execution_count": 15,
   "id": "8f242268",
   "metadata": {},
   "outputs": [
    {
     "name": "stdout",
     "output_type": "stream",
     "text": [
      "Watermelon\n",
      "Watermelon\n",
      "Watermelon\n"
     ]
    }
   ],
   "source": [
    "a=b=c=\"Watermelon\"\n",
    "print(a)\n",
    "print(b)\n",
    "print(c)"
   ]
  },
  {
   "cell_type": "markdown",
   "id": "4a5feceb",
   "metadata": {},
   "source": [
    "Unpack a Collection"
   ]
  },
  {
   "cell_type": "markdown",
   "id": "326c6fed",
   "metadata": {},
   "source": [
    "If you have a collection of values in a list, tuple etc. Python allows you to extract the values into variables. This is called unpacking."
   ]
  },
  {
   "cell_type": "code",
   "execution_count": 17,
   "id": "9d77fb44",
   "metadata": {},
   "outputs": [
    {
     "name": "stdout",
     "output_type": "stream",
     "text": [
      "Banana\n",
      "Grapes\n",
      "Chikooo\n"
     ]
    }
   ],
   "source": [
    "fruits=[\"Banana\",\"Grapes\",\"Chikooo\"]\n",
    "x,y,z=fruits\n",
    "print(x)\n",
    "print(y)\n",
    "print(z)"
   ]
  },
  {
   "cell_type": "code",
   "execution_count": 20,
   "id": "8ad4f3f3",
   "metadata": {},
   "outputs": [
    {
     "name": "stdout",
     "output_type": "stream",
     "text": [
      "Bike\n",
      "car\n",
      "auto\n"
     ]
    }
   ],
   "source": [
    "Vehicles=['Bike','car','auto']\n",
    "a,b,c=Vehicles\n",
    "print(a)\n",
    "print(b)\n",
    "print(c)"
   ]
  },
  {
   "cell_type": "markdown",
   "id": "0effcdf9",
   "metadata": {},
   "source": [
    "Output Variables"
   ]
  },
  {
   "cell_type": "code",
   "execution_count": 21,
   "id": "83fea450",
   "metadata": {},
   "outputs": [
    {
     "name": "stdout",
     "output_type": "stream",
     "text": [
      "30\n"
     ]
    }
   ],
   "source": [
    "a=10\n",
    "b=20\n",
    "print(a+b)"
   ]
  },
  {
   "cell_type": "code",
   "execution_count": 22,
   "id": "44260bf9",
   "metadata": {},
   "outputs": [
    {
     "ename": "TypeError",
     "evalue": "unsupported operand type(s) for +: 'int' and 'str'",
     "output_type": "error",
     "traceback": [
      "\u001b[1;31m---------------------------------------------------------------------------\u001b[0m",
      "\u001b[1;31mTypeError\u001b[0m                                 Traceback (most recent call last)",
      "\u001b[1;32m~\\AppData\\Local\\Temp\\ipykernel_17748\\115982892.py\u001b[0m in \u001b[0;36m<module>\u001b[1;34m\u001b[0m\n\u001b[0;32m      1\u001b[0m \u001b[0mh\u001b[0m\u001b[1;33m=\u001b[0m\u001b[1;36m5\u001b[0m\u001b[1;33m\u001b[0m\u001b[1;33m\u001b[0m\u001b[0m\n\u001b[0;32m      2\u001b[0m \u001b[0mk\u001b[0m\u001b[1;33m=\u001b[0m\u001b[1;34m\"kukoooo\"\u001b[0m\u001b[1;33m\u001b[0m\u001b[1;33m\u001b[0m\u001b[0m\n\u001b[1;32m----> 3\u001b[1;33m \u001b[0mprint\u001b[0m\u001b[1;33m(\u001b[0m\u001b[0mh\u001b[0m\u001b[1;33m+\u001b[0m\u001b[0mk\u001b[0m\u001b[1;33m)\u001b[0m\u001b[1;33m\u001b[0m\u001b[1;33m\u001b[0m\u001b[0m\n\u001b[0m",
      "\u001b[1;31mTypeError\u001b[0m: unsupported operand type(s) for +: 'int' and 'str'"
     ]
    }
   ],
   "source": [
    "h=5\n",
    "k=\"kukoooo\"\n",
    "print(h+k)"
   ]
  },
  {
   "cell_type": "code",
   "execution_count": 23,
   "id": "4a394460",
   "metadata": {},
   "outputs": [
    {
     "name": "stdout",
     "output_type": "stream",
     "text": [
      "5 kukoooo\n"
     ]
    }
   ],
   "source": [
    "h=5\n",
    "k=\"kukoooo\"\n",
    "print(h,k)"
   ]
  },
  {
   "cell_type": "markdown",
   "id": "7f4ed196",
   "metadata": {},
   "source": [
    "Global Variables"
   ]
  },
  {
   "cell_type": "markdown",
   "id": "7953cd31",
   "metadata": {},
   "source": [
    "Variables that are created outside of a function (as in all of the examples above) are known as global variables.\n",
    "\n",
    "Global variables can be used by everyone, both inside of functions and outside."
   ]
  },
  {
   "cell_type": "code",
   "execution_count": 25,
   "id": "2bb8dbdd",
   "metadata": {},
   "outputs": [
    {
     "name": "stdout",
     "output_type": "stream",
     "text": [
      "Python is awesome\n"
     ]
    }
   ],
   "source": [
    "x = \"awesome\"\n",
    "\n",
    "def myfunc():\n",
    "  print(\"Python is \" + x)\n",
    "myfunc()\n"
   ]
  },
  {
   "cell_type": "code",
   "execution_count": null,
   "id": "27f2c419",
   "metadata": {},
   "outputs": [],
   "source": []
  }
 ],
 "metadata": {
  "kernelspec": {
   "display_name": "Python 3 (ipykernel)",
   "language": "python",
   "name": "python3"
  },
  "language_info": {
   "codemirror_mode": {
    "name": "ipython",
    "version": 3
   },
   "file_extension": ".py",
   "mimetype": "text/x-python",
   "name": "python",
   "nbconvert_exporter": "python",
   "pygments_lexer": "ipython3",
   "version": "3.9.13"
  }
 },
 "nbformat": 4,
 "nbformat_minor": 5
}
