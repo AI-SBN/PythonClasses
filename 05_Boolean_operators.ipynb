{
 "cells": [
  {
   "cell_type": "markdown",
   "id": "a08f71b2",
   "metadata": {},
   "source": [
    "## Boolean Operators "
   ]
  },
  {
   "cell_type": "code",
   "execution_count": 2,
   "id": "27a63b5a",
   "metadata": {},
   "outputs": [
    {
     "name": "stdout",
     "output_type": "stream",
     "text": [
      "True\n",
      "False\n"
     ]
    }
   ],
   "source": [
    "print(True)  # do not use your variables as True \n",
    "print(False) "
   ]
  },
  {
   "cell_type": "code",
   "execution_count": 3,
   "id": "bf40f8fa",
   "metadata": {},
   "outputs": [
    {
     "name": "stdout",
     "output_type": "stream",
     "text": [
      "True\n",
      "False\n",
      "False\n"
     ]
    }
   ],
   "source": [
    "print(10 > 9)\n",
    "print(10 == 9) \n",
    "print(10 < 9)"
   ]
  },
  {
   "cell_type": "code",
   "execution_count": 4,
   "id": "527234d6",
   "metadata": {},
   "outputs": [
    {
     "name": "stdout",
     "output_type": "stream",
     "text": [
      "b is not greater than a\n"
     ]
    }
   ],
   "source": [
    "a = 200\n",
    "b = 33\n",
    "\n",
    "if b > a: # boolean condition\n",
    "  print(\"b is greater than a\")\n",
    "else:\n",
    "  print(\"b is not greater than a\")"
   ]
  },
  {
   "cell_type": "code",
   "execution_count": 8,
   "id": "0b97df59",
   "metadata": {},
   "outputs": [
    {
     "data": {
      "text/plain": [
       "True"
      ]
     },
     "execution_count": 8,
     "metadata": {},
     "output_type": "execute_result"
    }
   ],
   "source": [
    "a>b    # print mandotroty\n",
    "a==b   # print mandotroty\n",
    "b<a  # print optional "
   ]
  },
  {
   "cell_type": "code",
   "execution_count": 9,
   "id": "356b98cd",
   "metadata": {},
   "outputs": [
    {
     "name": "stdout",
     "output_type": "stream",
     "text": [
      "True\n",
      "True\n"
     ]
    }
   ],
   "source": [
    "print(bool(\"Hello\"))\n",
    "print(bool(15))"
   ]
  },
  {
   "cell_type": "code",
   "execution_count": 10,
   "id": "482d68f9",
   "metadata": {},
   "outputs": [
    {
     "name": "stdout",
     "output_type": "stream",
     "text": [
      "True\n",
      "True\n"
     ]
    }
   ],
   "source": [
    "x = \"Hello\"\n",
    "y = 15\n",
    "\n",
    "print(bool(x))\n",
    "print(bool(y))"
   ]
  },
  {
   "cell_type": "code",
   "execution_count": 13,
   "id": "0b1f3ce6",
   "metadata": {},
   "outputs": [
    {
     "name": "stdout",
     "output_type": "stream",
     "text": [
      "False\n",
      "False\n",
      "False\n",
      "False\n",
      "False\n",
      "False\n",
      "False\n"
     ]
    }
   ],
   "source": [
    "print(bool(False))\n",
    "print(bool(None)) # NA\n",
    "print(bool(0))\n",
    "print(bool(\"\")) # empty string\n",
    "print(bool(())) # empty tuple\n",
    "print(bool([])) # empty list\n",
    "print(bool({})) # empty dict"
   ]
  },
  {
   "cell_type": "code",
   "execution_count": 15,
   "id": "3dc1b62e",
   "metadata": {},
   "outputs": [
    {
     "name": "stdout",
     "output_type": "stream",
     "text": [
      "True\n",
      "['x', 'y', 'z']\n",
      "False\n"
     ]
    }
   ],
   "source": [
    "list1 = ['x','y','z'] \n",
    "list2 = []\n",
    "\n",
    "print(bool(list1))\n",
    "print(list1)\n",
    "print(bool(list2))"
   ]
  },
  {
   "cell_type": "code",
   "execution_count": 19,
   "id": "d52fba47",
   "metadata": {},
   "outputs": [
    {
     "name": "stdout",
     "output_type": "stream",
     "text": [
      "True\n",
      "False\n",
      "False\n"
     ]
    }
   ],
   "source": [
    "x = 200\n",
    "print(isinstance(x, int)) # isinstance C++ typeof()\n",
    "print(isinstance(x, str)) # isinstance \n",
    "print(isinstance(x, float)) # isinstance "
   ]
  },
  {
   "cell_type": "code",
   "execution_count": 21,
   "id": "948ba127",
   "metadata": {},
   "outputs": [
    {
     "name": "stdout",
     "output_type": "stream",
     "text": [
      "False\n",
      "True\n",
      "True\n",
      "False\n"
     ]
    }
   ],
   "source": [
    "def myFunction(x) :\n",
    "    # tab for indentation\n",
    "    if x > 10:\n",
    "        return True\n",
    "    else:\n",
    "        return False    \n",
    "\n",
    "print(myFunction(-5))\n",
    "print(myFunction(35))\n",
    "print(myFunction(999))\n",
    "print(myFunction(-900))"
   ]
  },
  {
   "cell_type": "code",
   "execution_count": null,
   "id": "65f2cf4f",
   "metadata": {},
   "outputs": [],
   "source": []
  }
 ],
 "metadata": {
  "kernelspec": {
   "display_name": "Python 3 (ipykernel)",
   "language": "python",
   "name": "python3"
  },
  "language_info": {
   "codemirror_mode": {
    "name": "ipython",
    "version": 3
   },
   "file_extension": ".py",
   "mimetype": "text/x-python",
   "name": "python",
   "nbconvert_exporter": "python",
   "pygments_lexer": "ipython3",
   "version": "3.10.6"
  }
 },
 "nbformat": 4,
 "nbformat_minor": 5
}
