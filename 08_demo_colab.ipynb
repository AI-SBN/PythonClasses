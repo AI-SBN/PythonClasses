{
  "nbformat": 4,
  "nbformat_minor": 0,
  "metadata": {
    "colab": {
      "provenance": []
    },
    "kernelspec": {
      "name": "python3",
      "display_name": "Python 3"
    },
    "language_info": {
      "name": "python"
    }
  },
  "cells": [
    {
      "cell_type": "code",
      "execution_count": null,
      "metadata": {
        "id": "m0xqevReT1Tr",
        "colab": {
          "base_uri": "https://localhost:8080/"
        },
        "outputId": "bd4d20ed-e9d7-484b-8f87-e9a95bc08a0d"
      },
      "outputs": [
        {
          "output_type": "stream",
          "name": "stdout",
          "text": [
            "hello\n"
          ]
        }
      ],
      "source": [
        "print(\"hello\")"
      ]
    },
    {
      "cell_type": "markdown",
      "source": [
        "Today we are going to use google colab\n",
        "\n",
        "GPU "
      ],
      "metadata": {
        "id": "TpVvRkI46mpB"
      }
    },
    {
      "cell_type": "code",
      "source": [
        "a = 2\n",
        "b = 3\n",
        "c = -1\n",
        "d = -10\n",
        "\n",
        "smallest = None\n",
        "\n",
        "if a>b:\n",
        "  if a>c:\n",
        "    if a>d:\n",
        "      smallest = a\n",
        "elif b>c:\n",
        "  if b>d:\n",
        "    smallest = b\n",
        "\n",
        "elif c>d:\n",
        "  smallest = c\n",
        "else:\n",
        "  smallest = d\n",
        "\n",
        "print(smallest)"
      ],
      "metadata": {
        "colab": {
          "base_uri": "https://localhost:8080/"
        },
        "id": "LqB--kzH6tMu",
        "outputId": "4af66c52-020e-497d-cddf-e3512d815dbd"
      },
      "execution_count": null,
      "outputs": [
        {
          "output_type": "stream",
          "name": "stdout",
          "text": [
            "3\n"
          ]
        }
      ]
    },
    {
      "cell_type": "code",
      "source": [
        "print(\"hello\")"
      ],
      "metadata": {
        "id": "jwzMwFgw9gOD",
        "colab": {
          "base_uri": "https://localhost:8080/"
        },
        "outputId": "6e1b4af2-148a-4804-8931-a5a852d0812c"
      },
      "execution_count": null,
      "outputs": [
        {
          "output_type": "stream",
          "name": "stdout",
          "text": [
            "hello\n"
          ]
        }
      ]
    },
    {
      "cell_type": "code",
      "source": [
        "print(\"hello\")"
      ],
      "metadata": {
        "colab": {
          "base_uri": "https://localhost:8080/"
        },
        "id": "dze6WfvgAtFa",
        "outputId": "fdd4a7be-51a1-4d74-9e7a-82f5d1a5a6aa"
      },
      "execution_count": null,
      "outputs": [
        {
          "output_type": "stream",
          "name": "stdout",
          "text": [
            "hello\n"
          ]
        }
      ]
    }
  ]
}