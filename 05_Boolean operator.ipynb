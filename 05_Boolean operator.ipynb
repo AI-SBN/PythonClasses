{
 "cells": [
  {
   "cell_type": "markdown",
   "id": "55a59e84",
   "metadata": {},
   "source": [
    "## Boolean operators"
   ]
  },
  {
   "cell_type": "code",
   "execution_count": 1,
   "id": "e4dfbee6",
   "metadata": {},
   "outputs": [
    {
     "name": "stdout",
     "output_type": "stream",
     "text": [
      "True\n",
      "False\n",
      "True\n"
     ]
    }
   ],
   "source": [
    "print(18 > 7)\n",
    "print(10 == 18)\n",
    "print(18 < 56)"
   ]
  },
  {
   "cell_type": "code",
   "execution_count": 2,
   "id": "bdf88f43",
   "metadata": {},
   "outputs": [
    {
     "name": "stdout",
     "output_type": "stream",
     "text": [
      "True\n"
     ]
    }
   ],
   "source": [
    "print(123==123)"
   ]
  },
  {
   "cell_type": "code",
   "execution_count": 3,
   "id": "a576bfa7",
   "metadata": {},
   "outputs": [
    {
     "name": "stdout",
     "output_type": "stream",
     "text": [
      "False\n"
     ]
    }
   ],
   "source": [
    "print(1357==24668)"
   ]
  },
  {
   "cell_type": "code",
   "execution_count": 4,
   "id": "809889c7",
   "metadata": {},
   "outputs": [
    {
     "name": "stdout",
     "output_type": "stream",
     "text": [
      "b is less than a\n"
     ]
    }
   ],
   "source": [
    "a = 600\n",
    "b = 500\n",
    "\n",
    "if b > a:\n",
    "  print(\"b is greater than a\")\n",
    "else:\n",
    "  print(\"b is less than a\")"
   ]
  },
  {
   "cell_type": "code",
   "execution_count": 6,
   "id": "a7e3e024",
   "metadata": {},
   "outputs": [
    {
     "name": "stdout",
     "output_type": "stream",
     "text": [
      "True\n",
      "True\n"
     ]
    }
   ],
   "source": [
    "print(bool(\"FaIrOz\"))\n",
    "print(bool(200))"
   ]
  },
  {
   "cell_type": "code",
   "execution_count": 10,
   "id": "3ce45064",
   "metadata": {},
   "outputs": [
    {
     "name": "stdout",
     "output_type": "stream",
     "text": [
      "True\n",
      "False\n",
      "False\n"
     ]
    }
   ],
   "source": [
    "print(bool(True))\n",
    "print(bool(None))\n",
    "print(bool(0))"
   ]
  },
  {
   "cell_type": "code",
   "execution_count": 12,
   "id": "b9a3bf6e",
   "metadata": {},
   "outputs": [
    {
     "name": "stdout",
     "output_type": "stream",
     "text": [
      "True\n",
      "['x', 'y', 'z']\n",
      "[]\n",
      "False\n"
     ]
    }
   ],
   "source": [
    "list1=['x','y','z']\n",
    "list2=[]\n",
    "\n",
    "print(bool(list1))\n",
    "print(list1)\n",
    "print(list2)\n",
    "print(bool(list2))"
   ]
  },
  {
   "cell_type": "code",
   "execution_count": 14,
   "id": "ad4badad",
   "metadata": {},
   "outputs": [
    {
     "name": "stdout",
     "output_type": "stream",
     "text": [
      "True\n",
      "True\n",
      "False\n",
      "False\n"
     ]
    }
   ],
   "source": [
    "def myFunction(x) :\n",
    "    if x > 100:\n",
    "        return True\n",
    "    else:\n",
    "        return False    \n",
    "\n",
    "print(myFunction(399))\n",
    "print(myFunction(396))\n",
    "print(myFunction(-122))\n",
    "print(myFunction(90))"
   ]
  },
  {
   "cell_type": "code",
   "execution_count": null,
   "id": "f0c90e4c",
   "metadata": {},
   "outputs": [],
   "source": []
  }
 ],
 "metadata": {
  "kernelspec": {
   "display_name": "Python 3",
   "language": "python",
   "name": "python3"
  },
  "language_info": {
   "codemirror_mode": {
    "name": "ipython",
    "version": 3
   },
   "file_extension": ".py",
   "mimetype": "text/x-python",
   "name": "python",
   "nbconvert_exporter": "python",
   "pygments_lexer": "ipython3",
   "version": "3.8.8"
  }
 },
 "nbformat": 4,
 "nbformat_minor": 5
}
