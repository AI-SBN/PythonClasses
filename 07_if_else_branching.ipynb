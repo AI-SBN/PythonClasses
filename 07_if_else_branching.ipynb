{
 "cells": [
  {
   "cell_type": "code",
   "execution_count": 4,
   "id": "183ce3b4",
   "metadata": {},
   "outputs": [
    {
     "name": "stdout",
     "output_type": "stream",
     "text": [
      "a is greater than b\n"
     ]
    }
   ],
   "source": [
    "a=20\n",
    "b=19\n",
    "if b>a:\n",
    "    print(\"b is greater than a\")\n",
    "elif a==b:\n",
    "    print(\"a is equal to b\")\n",
    "elif b<a:\n",
    "    print(\"a is greater than b\")"
   ]
  },
  {
   "cell_type": "code",
   "execution_count": 8,
   "id": "244c3c93",
   "metadata": {},
   "outputs": [
    {
     "name": "stdout",
     "output_type": "stream",
     "text": [
      "21\n",
      "a is greater than 20\n"
     ]
    }
   ],
   "source": [
    "a=int(input())\n",
    "\n",
    "if a<10:\n",
    "    print(\"a is less than 10\")\n",
    "    \n",
    "elif a>10 and a<20:\n",
    "    print(\"a is in between 10 and 20\")\n",
    "    \n",
    "else:\n",
    "    print(\"a is greater than 20\")"
   ]
  },
  {
   "cell_type": "code",
   "execution_count": 14,
   "id": "f9d7e4b2",
   "metadata": {},
   "outputs": [
    {
     "name": "stdout",
     "output_type": "stream",
     "text": [
      "A\n",
      "ascii value 65\n",
      "a is greater than 20\n"
     ]
    }
   ],
   "source": [
    "a=ord(input())\n",
    "print(\"ascii value\" ,a)\n",
    "\n",
    "if a<10:\n",
    "    print(\"a is less than 10\")\n",
    "    \n",
    "elif a>10 and a<20:\n",
    "    print(\"a is in between 10 and 20\")\n",
    "    \n",
    "else:\n",
    "    print(\"a is greater than 20\")"
   ]
  },
  {
   "cell_type": "code",
   "execution_count": null,
   "id": "84aabdfa",
   "metadata": {},
   "outputs": [],
   "source": []
  },
  {
   "cell_type": "code",
   "execution_count": null,
   "id": "192e1bc4",
   "metadata": {},
   "outputs": [],
   "source": [
    " "
   ]
  },
  {
   "cell_type": "code",
   "execution_count": null,
   "id": "51d9c7ff",
   "metadata": {},
   "outputs": [],
   "source": []
  }
 ],
 "metadata": {
  "kernelspec": {
   "display_name": "Python 3",
   "language": "python",
   "name": "python3"
  },
  "language_info": {
   "codemirror_mode": {
    "name": "ipython",
    "version": 3
   },
   "file_extension": ".py",
   "mimetype": "text/x-python",
   "name": "python",
   "nbconvert_exporter": "python",
   "pygments_lexer": "ipython3",
   "version": "3.8.8"
  }
 },
 "nbformat": 4,
 "nbformat_minor": 5
}
