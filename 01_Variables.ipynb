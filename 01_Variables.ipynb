{
 "cells": [
  {
   "cell_type": "code",
   "execution_count": 1,
   "id": "4ea83224",
   "metadata": {},
   "outputs": [
    {
     "ename": "SyntaxError",
     "evalue": "invalid syntax (1620785740.py, line 1)",
     "output_type": "error",
     "traceback": [
      "\u001b[1;36m  File \u001b[1;32m\"C:\\Users\\Admin\\AppData\\Local\\Temp\\ipykernel_13328\\1620785740.py\"\u001b[1;36m, line \u001b[1;32m1\u001b[0m\n\u001b[1;33m    Variable Names\u001b[0m\n\u001b[1;37m             ^\u001b[0m\n\u001b[1;31mSyntaxError\u001b[0m\u001b[1;31m:\u001b[0m invalid syntax\n"
     ]
    }
   ],
   "source": [
    "###Variable Names\n",
    "\n",
    "A variable can have a short name (like x and y) or a more descriptive name (age, carname, total_volume). Rules for Python variables:\n",
    "\n",
    "A variable name must start with a letter or the underscore carecter\n",
    "\n",
    "A variable name cannot start with a number\n",
    "\n",
    "A variable name can only contain alpha-numeric characters and underscores (A-z, 0-9, and _ )\n",
    "\n",
    "Variable names are case-sensitive (age, Age and AGE are three different variables)\n",
    "\n",
    "A variable name cannot be any of the Python keywords.\n",
    "\n",
    "\n"
   ]
  },
  {
   "cell_type": "code",
   "execution_count": 2,
   "id": "0ca08a48",
   "metadata": {},
   "outputs": [
    {
     "ename": "SyntaxError",
     "evalue": "invalid syntax (1326754810.py, line 7)",
     "output_type": "error",
     "traceback": [
      "\u001b[1;36m  File \u001b[1;32m\"C:\\Users\\Admin\\AppData\\Local\\Temp\\ipykernel_13328\\1326754810.py\"\u001b[1;36m, line \u001b[1;32m7\u001b[0m\n\u001b[1;33m    23var = \"hhjk\" # wrong\u001b[0m\n\u001b[1;37m      ^\u001b[0m\n\u001b[1;31mSyntaxError\u001b[0m\u001b[1;31m:\u001b[0m invalid syntax\n"
     ]
    }
   ],
   "source": [
    "myvar = \"John\"\n",
    "my_var = \"John\"\n",
    "_my_var = \"John\"\n",
    "myVar = \"John\"\n",
    "MYVAR = \"John\"\n",
    "myvar2 = \"John\"\n",
    "23var = \"hhjk\" # wrong \n",
    "$myvar = \"fjjf\" # wrong\n"
   ]
  },
  {
   "cell_type": "code",
   "execution_count": 4,
   "id": "d572c065",
   "metadata": {},
   "outputs": [],
   "source": [
    "myvar = \"John\"\n",
    "my_var = \"John\"\n",
    "_my_var = \"John\"\n",
    "myVar = \"John\"\n",
    "MYVAR = \"John\"\n",
    "myvar2 = \"John\"\n"
   ]
  },
  {
   "cell_type": "code",
   "execution_count": 6,
   "id": "7d743ec6",
   "metadata": {},
   "outputs": [],
   "source": [
    "##Assignment of multiple variables\n"
   ]
  },
  {
   "cell_type": "code",
   "execution_count": 8,
   "id": "4ed475b5",
   "metadata": {},
   "outputs": [
    {
     "name": "stdout",
     "output_type": "stream",
     "text": [
      "Orange\n",
      "Banana\n",
      "Cherry\n"
     ]
    }
   ],
   "source": [
    "x, y, z = \"Orange\", \"Banana\", \"Cherry\"  # IN Python it is possible\n",
    "\n",
    "# IN C  we have to do like this\n",
    "# x =  \"Orange\"\n",
    "# y = \"Banana\"\n",
    "# z = \"Cherry\" \n",
    "x, y, z = \"Orange\", \"Banana\", \"Cherry\"  # IN Python it is possible\n",
    "\n",
    "# IN C  we have to do like this\n",
    "# x =  \"Orange\"\n",
    "# y = \"Banana\"\n",
    "# z = \"Cherry\" \n",
    "\n",
    "print(x)\n",
    "print(y)\n",
    "print(z)\n"
   ]
  },
  {
   "cell_type": "code",
   "execution_count": 9,
   "id": "78b94d5c",
   "metadata": {},
   "outputs": [
    {
     "name": "stdout",
     "output_type": "stream",
     "text": [
      "Orange\n",
      "Orange\n",
      "Orange\n"
     ]
    }
   ],
   "source": [
    "\n",
    "x = y = z = \"Orange\"\n",
    "print(x)\n",
    "print(y)\n",
    "print(z)"
   ]
  },
  {
   "cell_type": "code",
   "execution_count": 10,
   "id": "757c67e2",
   "metadata": {},
   "outputs": [],
   "source": [
    "###Unpack a Collection (List)\n"
   ]
  },
  {
   "cell_type": "code",
   "execution_count": 11,
   "id": "92b1831b",
   "metadata": {},
   "outputs": [
    {
     "name": "stdout",
     "output_type": "stream",
     "text": [
      "apple\n",
      "banana\n",
      "cherry\n"
     ]
    }
   ],
   "source": [
    "fruits = [\"apple\", \"banana\", \"cherry\"] # Data Structure (Important) - List, tuple, sets, dictionary, tree, arrays, pandas, generators \n",
    "x, y, z = fruits\n",
    "print(x)\n",
    "print(y)\n",
    "print(z)\n"
   ]
  },
  {
   "cell_type": "code",
   "execution_count": 12,
   "id": "96a7ea19",
   "metadata": {},
   "outputs": [],
   "source": [
    "###Inputs and Outputs\n"
   ]
  },
  {
   "cell_type": "code",
   "execution_count": null,
   "id": "a4a9f4b6",
   "metadata": {},
   "outputs": [],
   "source": [
    "x = input() # C - scanf(\"%d\",&x), C++ cin<<x, java -- Sys.in()"
   ]
  },
  {
   "cell_type": "code",
   "execution_count": null,
   "id": "aff59dd6",
   "metadata": {},
   "outputs": [],
   "source": [
    "print(x)  # printf(x), cout>>x , system.out.println()"
   ]
  },
  {
   "cell_type": "code",
   "execution_count": 1,
   "id": "beda7198",
   "metadata": {},
   "outputs": [
    {
     "name": "stdout",
     "output_type": "stream",
     "text": [
      "Python is awesome\n",
      "60\n"
     ]
    }
   ],
   "source": [
    "\n",
    "x = \"Python \"\n",
    "y = \"is \"\n",
    "z = \"awesome\"\n",
    "a = 10\n",
    "b = 20\n",
    "c = 30\n",
    "\n",
    "\n",
    "print(x + y + z) # concatenate - one object multiple properties - Polymorphism - operator overloading \n",
    "print(a + b + c) # actual addition\n"
   ]
  },
  {
   "cell_type": "code",
   "execution_count": null,
   "id": "8c677d19",
   "metadata": {},
   "outputs": [],
   "source": [
    "\n",
    "\n",
    "x = \"Python \"\n",
    "y = \"is \"\n",
    "z = \"awesome\"\n",
    "a = 10\n",
    "b = 20\n",
    "c = 30\n",
    "print(x + y + z) # concatenate - one object multiple properties - Polymorphism - operator overloading \n",
    "print(a + b + c) # actual addition\n"
   ]
  },
  {
   "cell_type": "code",
   "execution_count": 2,
   "id": "c5e4092e",
   "metadata": {},
   "outputs": [
    {
     "ename": "TypeError",
     "evalue": "can only concatenate str (not \"int\") to str",
     "output_type": "error",
     "traceback": [
      "\u001b[1;31m---------------------------------------------------------------------------\u001b[0m",
      "\u001b[1;31mTypeError\u001b[0m                                 Traceback (most recent call last)",
      "\u001b[1;32m~\\AppData\\Local\\Temp\\ipykernel_11572\\179455109.py\u001b[0m in \u001b[0;36m<module>\u001b[1;34m\u001b[0m\n\u001b[1;32m----> 1\u001b[1;33m \u001b[0mprint\u001b[0m\u001b[1;33m(\u001b[0m\u001b[0mx\u001b[0m\u001b[1;33m+\u001b[0m\u001b[0ma\u001b[0m\u001b[1;33m)\u001b[0m \u001b[1;31m# x is string and a is int\u001b[0m\u001b[1;33m\u001b[0m\u001b[1;33m\u001b[0m\u001b[0m\n\u001b[0m",
      "\u001b[1;31mTypeError\u001b[0m: can only concatenate str (not \"int\") to str"
     ]
    }
   ],
   "source": [
    "print(x+a) # x is string and a is int,#adding string+int\n"
   ]
  },
  {
   "cell_type": "code",
   "execution_count": 4,
   "id": "509c40b6",
   "metadata": {},
   "outputs": [
    {
     "name": "stdout",
     "output_type": "stream",
     "text": [
      "Python 10\n"
     ]
    }
   ],
   "source": [
    "print(x+str(a)) # typecasting,#here we are covrting int=a into str[a],called as typecasting\n"
   ]
  },
  {
   "cell_type": "code",
   "execution_count": 5,
   "id": "c6b82eca",
   "metadata": {},
   "outputs": [
    {
     "ename": "ValueError",
     "evalue": "invalid literal for int() with base 10: 'Python '",
     "output_type": "error",
     "traceback": [
      "\u001b[1;31m---------------------------------------------------------------------------\u001b[0m",
      "\u001b[1;31mValueError\u001b[0m                                Traceback (most recent call last)",
      "\u001b[1;32m~\\AppData\\Local\\Temp\\ipykernel_11572\\2517961695.py\u001b[0m in \u001b[0;36m<module>\u001b[1;34m\u001b[0m\n\u001b[1;32m----> 1\u001b[1;33m \u001b[0mprint\u001b[0m\u001b[1;33m(\u001b[0m\u001b[0mint\u001b[0m\u001b[1;33m(\u001b[0m\u001b[0mx\u001b[0m\u001b[1;33m)\u001b[0m\u001b[1;33m+\u001b[0m\u001b[0ma\u001b[0m\u001b[1;33m)\u001b[0m \u001b[1;31m# typecasting,# here we are converting str=x into int[x]\u001b[0m\u001b[1;33m\u001b[0m\u001b[1;33m\u001b[0m\u001b[0m\n\u001b[0m",
      "\u001b[1;31mValueError\u001b[0m: invalid literal for int() with base 10: 'Python '"
     ]
    }
   ],
   "source": [
    "print(int(x)+a) # typecasting,# here we are converting str=x into int[x]\n"
   ]
  },
  {
   "cell_type": "code",
   "execution_count": 7,
   "id": "0bc7b216",
   "metadata": {},
   "outputs": [
    {
     "name": "stdout",
     "output_type": "stream",
     "text": [
      "30\n"
     ]
    }
   ],
   "source": [
    "\n",
    "x = \" 10 \" # trimming ,# x = \"10\" is str coverting it into int as int[x]\n",
    "y = 20\n",
    "print(int(x)+y) \n"
   ]
  },
  {
   "cell_type": "code",
   "execution_count": 8,
   "id": "13cf1839",
   "metadata": {},
   "outputs": [],
   "source": [
    "### \"Global and Local variables\"\n"
   ]
  },
  {
   "cell_type": "code",
   "execution_count": 13,
   "id": "7a378e3d",
   "metadata": {},
   "outputs": [
    {
     "name": "stdout",
     "output_type": "stream",
     "text": [
      "Python is awesome\n",
      "Number is 10\n",
      "Number is awesome\n",
      "Python is awesome\n",
      "Number is 20\n",
      "Python is 20\n"
     ]
    }
   ],
   "source": [
    "x = \"awesome\"  # global Variable\n",
    "\n",
    "def myfunc1():\n",
    "    \n",
    "    y = 10        #local variable\n",
    "    \n",
    "    print(\"Python is \" + x)\n",
    "    print(\"Number is \" + str(y))\n",
    "    print(\"Number is \" + str(z))    \n",
    "\n",
    "def myfunc2():\n",
    "    \n",
    "    z = 20    #local variable \n",
    "    \n",
    "    print(\"Python is \" + x)\n",
    "    print(\"Number is \" + str(z))    \n",
    "    print(\"Python is \" + str(y))\n",
    "    \n",
    "    \n",
    "myfunc1()\n",
    "myfunc2()\n",
    "\n",
    "\n"
   ]
  },
  {
   "cell_type": "code",
   "execution_count": null,
   "id": "80e7be0d",
   "metadata": {},
   "outputs": [],
   "source": []
  }
 ],
 "metadata": {
  "kernelspec": {
   "display_name": "Python 3 (ipykernel)",
   "language": "python",
   "name": "python3"
  },
  "language_info": {
   "codemirror_mode": {
    "name": "ipython",
    "version": 3
   },
   "file_extension": ".py",
   "mimetype": "text/x-python",
   "name": "python",
   "nbconvert_exporter": "python",
   "pygments_lexer": "ipython3",
   "version": "3.9.13"
  }
 },
 "nbformat": 4,
 "nbformat_minor": 5
}
