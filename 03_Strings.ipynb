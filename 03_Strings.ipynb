{
 "cells": [
  {
   "cell_type": "markdown",
   "id": "0a38c704",
   "metadata": {},
   "source": [
    "# Strings"
   ]
  },
  {
   "cell_type": "code",
   "execution_count": 1,
   "id": "7e8805bf",
   "metadata": {},
   "outputs": [
    {
     "name": "stdout",
     "output_type": "stream",
     "text": [
      "Hello\n",
      "Hello\n"
     ]
    }
   ],
   "source": [
    "print(\"Hello\") # double inverted qoutes\n",
    "print('Hello') # single inverted qoutes Press shift + enter"
   ]
  },
  {
   "cell_type": "code",
   "execution_count": 2,
   "id": "1b44fe9d",
   "metadata": {},
   "outputs": [
    {
     "name": "stdout",
     "output_type": "stream",
     "text": [
      "Hello\n"
     ]
    }
   ],
   "source": [
    "a = \"Hello\"\n",
    "print(a)"
   ]
  },
  {
   "cell_type": "markdown",
   "id": "5fb7882e",
   "metadata": {},
   "source": [
    "## 2 ways to write multiline strings"
   ]
  },
  {
   "cell_type": "markdown",
   "id": "5a9f3ec0",
   "metadata": {},
   "source": [
    "### 1 - way"
   ]
  },
  {
   "cell_type": "code",
   "execution_count": 3,
   "id": "c863f1ab",
   "metadata": {},
   "outputs": [
    {
     "name": "stdout",
     "output_type": "stream",
     "text": [
      "Lorem ipsum dolor sit amet,consectetur adipiscing elit,sed do eiusmod tempor incididunt ut labore et dolore magna aliqua.\n"
     ]
    }
   ],
   "source": [
    "a = \"Lorem ipsum dolor sit amet,\\\n",
    "consectetur adipiscing elit,\\\n",
    "sed do eiusmod tempor incididunt \\\n",
    "ut labore et dolore magna aliqua.\" \n",
    "print(a)"
   ]
  },
  {
   "cell_type": "markdown",
   "id": "130fabbb",
   "metadata": {},
   "source": [
    "### 2 - way"
   ]
  },
  {
   "cell_type": "code",
   "execution_count": 4,
   "id": "c8786de1",
   "metadata": {},
   "outputs": [
    {
     "name": "stdout",
     "output_type": "stream",
     "text": [
      "Lorem ipsum dolor sit amet,\n",
      "consectetur adipiscing elit,\n",
      "sed do eiusmod tempor incididunt\n",
      "ut labore et dolore magna aliqua.\n"
     ]
    }
   ],
   "source": [
    "a = \"\"\"Lorem ipsum dolor sit amet,\n",
    "consectetur adipiscing elit,\n",
    "sed do eiusmod tempor incididunt\n",
    "ut labore et dolore magna aliqua.\"\"\"\n",
    "print(a)"
   ]
  },
  {
   "cell_type": "code",
   "execution_count": 5,
   "id": "ed515cf0",
   "metadata": {},
   "outputs": [
    {
     "name": "stdout",
     "output_type": "stream",
     "text": [
      "Lorem ipsum dolor sit amet,\b consectetur adipiscing elit\n"
     ]
    }
   ],
   "source": [
    "a = \"Lorem ipsum dolor sit amet,\\b consectetur adipiscing elit\"\n",
    "\n",
    "print(a)"
   ]
  },
  {
   "cell_type": "markdown",
   "id": "76c5ae0e",
   "metadata": {},
   "source": [
    "### Strings are Arrays ( NUmPY visit)"
   ]
  },
  {
   "cell_type": "markdown",
   "id": "2e9e0c47",
   "metadata": {},
   "source": [
    "array is a data structure (imp) which stores a collection of homgogeneous or elements of similar data types"
   ]
  },
  {
   "cell_type": "code",
   "execution_count": 6,
   "id": "cc11dcdc",
   "metadata": {},
   "outputs": [
    {
     "name": "stdout",
     "output_type": "stream",
     "text": [
      "e\n"
     ]
    }
   ],
   "source": [
    "a = \"Hello, World!\"  \n",
    "print(a[1]) "
   ]
  },
  {
   "cell_type": "markdown",
   "id": "7fa49567",
   "metadata": {},
   "source": [
    "## not correct"
   ]
  },
  {
   "cell_type": "code",
   "execution_count": 7,
   "id": "b446606e",
   "metadata": {},
   "outputs": [
    {
     "name": "stdout",
     "output_type": "stream",
     "text": [
      " at position - i and letter - a[i]\n",
      " at position - i and letter - a[i]\n",
      " at position - i and letter - a[i]\n",
      " at position - i and letter - a[i]\n",
      " at position - i and letter - a[i]\n",
      " at position - i and letter - a[i]\n",
      " at position - i and letter - a[i]\n",
      " at position - i and letter - a[i]\n",
      " at position - i and letter - a[i]\n",
      " at position - i and letter - a[i]\n",
      " at position - i and letter - a[i]\n",
      " at position - i and letter - a[i]\n",
      " at position - i and letter - a[i]\n"
     ]
    }
   ],
   "source": [
    "for i in range(0, len(a)):\n",
    "    \n",
    "    print(f\" at position - i and letter - a[i]\")     # variable"
   ]
  },
  {
   "cell_type": "markdown",
   "id": "d0cf0cbc",
   "metadata": {},
   "source": [
    "### correct"
   ]
  },
  {
   "cell_type": "code",
   "execution_count": 8,
   "id": "ee1c5c07",
   "metadata": {},
   "outputs": [
    {
     "name": "stdout",
     "output_type": "stream",
     "text": [
      " at position - 0 and letter - H\n",
      " at position - 1 and letter - e\n",
      " at position - 2 and letter - l\n",
      " at position - 3 and letter - l\n",
      " at position - 4 and letter - o\n",
      " at position - 5 and letter - ,\n",
      " at position - 6 and letter -  \n",
      " at position - 7 and letter - W\n",
      " at position - 8 and letter - o\n",
      " at position - 9 and letter - r\n",
      " at position - 10 and letter - l\n",
      " at position - 11 and letter - d\n",
      " at position - 12 and letter - !\n"
     ]
    }
   ],
   "source": [
    "for i in range(0, len(a)):\n",
    "    \n",
    "    print(f\" at position - {i} and letter - {a[i]}\")     # variable\n",
    "    "
   ]
  },
  {
   "cell_type": "markdown",
   "id": "fd47275e",
   "metadata": {},
   "source": [
    "## Reverse indexing - important"
   ]
  },
  {
   "cell_type": "code",
   "execution_count": 9,
   "id": "1518b5e2",
   "metadata": {},
   "outputs": [
    {
     "name": "stdout",
     "output_type": "stream",
     "text": [
      "!\n",
      "d\n",
      "l\n",
      "r\n"
     ]
    }
   ],
   "source": [
    "print(a[-1]) # a[10000] - a[-1]\n",
    "print(a[-2])\n",
    "print(a[-3])\n",
    "print(a[-4])"
   ]
  },
  {
   "cell_type": "code",
   "execution_count": 10,
   "id": "e6814fe2",
   "metadata": {},
   "outputs": [
    {
     "name": "stdout",
     "output_type": "stream",
     "text": [
      "b\n",
      "a\n",
      "n\n",
      "a\n",
      "n\n",
      "a\n",
      "********************\n",
      "b\n",
      "a\n",
      "n\n",
      "a\n",
      "n\n",
      "a\n"
     ]
    }
   ],
   "source": [
    "for x in \"banana\":\n",
    "    print(x)  # indentation \n",
    "\n",
    "print(\"*\"*20)\n",
    "x = \"banana\"\n",
    "for i in range(0, len(x)):\n",
    "    print(x[i])  # indentation "
   ]
  },
  {
   "cell_type": "code",
   "execution_count": 11,
   "id": "3b47a441",
   "metadata": {},
   "outputs": [
    {
     "name": "stdout",
     "output_type": "stream",
     "text": [
      "b$$$a$$$n$$$a$$$n$$$a$$$"
     ]
    }
   ],
   "source": [
    "for x in \"banana\":\n",
    "    print(x, end='$$$')  # shift + tab "
   ]
  },
  {
   "cell_type": "markdown",
   "id": "9c813dcd",
   "metadata": {},
   "source": [
    "### Check string"
   ]
  },
  {
   "cell_type": "code",
   "execution_count": 12,
   "id": "7af153c2",
   "metadata": {},
   "outputs": [
    {
     "name": "stdout",
     "output_type": "stream",
     "text": [
      "True\n"
     ]
    }
   ],
   "source": [
    "txt = \"The best things in life are free!\"  # main string\n",
    "\n",
    "print(\"free\" in txt)    # search operation"
   ]
  },
  {
   "cell_type": "code",
   "execution_count": 13,
   "id": "fa0205e0",
   "metadata": {},
   "outputs": [
    {
     "name": "stdout",
     "output_type": "stream",
     "text": [
      "False\n"
     ]
    }
   ],
   "source": [
    "txt = \"The best things in life are free!\"  # main string\n",
    "\n",
    "print(\"fire\" in txt)    # search operation"
   ]
  },
  {
   "cell_type": "code",
   "execution_count": 14,
   "id": "d29f1028",
   "metadata": {},
   "outputs": [
    {
     "name": "stdout",
     "output_type": "stream",
     "text": [
      "hai\n",
      "NO,  string is not present.\n"
     ]
    }
   ],
   "source": [
    "txt = \"The best things in life are free!\"\n",
    "\n",
    "x = input()   # reading input from user\n",
    "\n",
    "if x in txt:\n",
    "    print(\"Yes, string is present.\") \n",
    "else:\n",
    "    print(\"NO,  string is not present.\")"
   ]
  },
  {
   "cell_type": "code",
   "execution_count": 15,
   "id": "3df60442",
   "metadata": {},
   "outputs": [
    {
     "name": "stdout",
     "output_type": "stream",
     "text": [
      "bye\n",
      "NO, bye is not present.\n"
     ]
    }
   ],
   "source": [
    "txt = \"The best things in life are free!\"\n",
    "\n",
    "x = input()   # reading input from user\n",
    "\n",
    "if x in txt:\n",
    "    print(f\"Yes, {x}  is present.\") \n",
    "else:\n",
    "    print(f\"NO, {x} is not present.\")"
   ]
  },
  {
   "cell_type": "markdown",
   "id": "9a2c1b8e",
   "metadata": {},
   "source": [
    "### NOT IN"
   ]
  },
  {
   "cell_type": "code",
   "execution_count": 16,
   "id": "e09e38a2",
   "metadata": {},
   "outputs": [
    {
     "name": "stdout",
     "output_type": "stream",
     "text": [
      "True\n"
     ]
    }
   ],
   "source": [
    "txt = \"The best things in life are free!\"\n",
    "print(\"expensive\" not in txt)"
   ]
  },
  {
   "cell_type": "code",
   "execution_count": 17,
   "id": "8776440f",
   "metadata": {},
   "outputs": [
    {
     "name": "stdout",
     "output_type": "stream",
     "text": [
      "False\n"
     ]
    }
   ],
   "source": [
    "txt = \"The best things in life are free!\"\n",
    "print(\"best\" not in txt)"
   ]
  },
  {
   "cell_type": "markdown",
   "id": "047b97da",
   "metadata": {},
   "source": [
    "### Exercises"
   ]
  },
  {
   "cell_type": "markdown",
   "id": "4db67be0",
   "metadata": {},
   "source": [
    "1.count number of vowels and consonants in a given string"
   ]
  },
  {
   "cell_type": "markdown",
   "id": "8760b940",
   "metadata": {},
   "source": [
    "string_input = \"we are learning python programming daily\""
   ]
  },
  {
   "cell_type": "code",
   "execution_count": 18,
   "id": "d77b01a8",
   "metadata": {
    "scrolled": true
   },
   "outputs": [
    {
     "name": "stdout",
     "output_type": "stream",
     "text": [
      "no of vowels are: 12\n",
      "no of consonants: 28\n"
     ]
    }
   ],
   "source": [
    "string_input=\"we are learning python programming daily\"\n",
    "\n",
    "count_vowels=0\n",
    "count_consonants=0\n",
    "\n",
    "for i in string_input:\n",
    "    \n",
    "    if(i=='a'or i=='e'or i=='i'or i=='o'or i=='u'):\n",
    "        count_vowels = count_vowels+1\n",
    "    else:\n",
    "        count_consonants = count_consonants+1\n",
    "\n",
    "print(\"no of vowels are:\", count_vowels)\n",
    "print(\"no of consonants:\", count_consonants)     # esc + L will show you line numbers"
   ]
  },
  {
   "cell_type": "markdown",
   "id": "1434ef61",
   "metadata": {},
   "source": [
    "2.count number of students passed or failed from the list of marks ( above > 40 pass else fail)\n",
    "\n",
    "marks = [10,20,50,90,30,45,67, 77,55,66, 55, 99, 100]\n",
    "\n"
   ]
  },
  {
   "cell_type": "code",
   "execution_count": 19,
   "id": "508a02e6",
   "metadata": {},
   "outputs": [
    {
     "name": "stdout",
     "output_type": "stream",
     "text": [
      "Number of students passed: 7\n",
      "Number of students failed: 3\n"
     ]
    }
   ],
   "source": [
    "# line number display - esc followed L \n",
    "marks = [10, 20, 50, 90, 30, 45, 67, 77, 55, 66]  # input - list of marks \n",
    "\n",
    "passed = 0 \n",
    "failed = 0\n",
    "\n",
    "for mark in marks: #10   20  50  90  30  ...........\n",
    "    if mark >= 40:\n",
    "        passed += 1 # 0  0    1   2  2   ...........\n",
    "    else:   \n",
    "        failed += 1 # 1  2    2   2   3  ...........\n",
    "    \n",
    "print(\"Number of students passed:\", passed)\n",
    "print(\"Number of students failed:\", failed)"
   ]
  },
  {
   "cell_type": "markdown",
   "id": "b73d6a0f",
   "metadata": {},
   "source": [
    "3.largest of 2 numbers"
   ]
  },
  {
   "cell_type": "code",
   "execution_count": 20,
   "id": "4b890134",
   "metadata": {},
   "outputs": [
    {
     "name": "stdout",
     "output_type": "stream",
     "text": [
      "20\n"
     ]
    }
   ],
   "source": [
    "a = 10\n",
    "b = 20\n",
    "\n",
    "greater = None\n",
    "if a > b :\n",
    "    greater = a\n",
    "else:\n",
    "    greater = b\n",
    "print(greater)"
   ]
  }
 ],
 "metadata": {
  "kernelspec": {
   "display_name": "Python 3 (ipykernel)",
   "language": "python",
   "name": "python3"
  },
  "language_info": {
   "codemirror_mode": {
    "name": "ipython",
    "version": 3
   },
   "file_extension": ".py",
   "mimetype": "text/x-python",
   "name": "python",
   "nbconvert_exporter": "python",
   "pygments_lexer": "ipython3",
   "version": "3.10.9"
  }
 },
 "nbformat": 4,
 "nbformat_minor": 5
}
