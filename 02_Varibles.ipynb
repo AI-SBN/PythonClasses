{
 "cells": [
  {
   "cell_type": "code",
   "execution_count": 2,
   "id": "055b23fa",
   "metadata": {},
   "outputs": [],
   "source": [
    "#Variable Names\n",
    "\n",
    "#A variable can have a short name (like x and y) or a more descriptive name (age, carname, total_volume). Rules for Python variables:\n",
    "\n",
    "#A variable name must start with a letter or the underscore character\n",
    "\n",
    "#A variable name cannot start with a number\n",
    "\n",
    "#A variable name can only contain alpha-numeric characters and underscores (A-z, 0-9, and _ )\n",
    "\n",
    "#Variable names are case-sensitive (age, Age and AGE are three different variables)\n",
    "\n",
    "#A variable name cannot be any of the Python keywords."
   ]
  },
  {
   "cell_type": "code",
   "execution_count": 3,
   "id": "db082519",
   "metadata": {},
   "outputs": [],
   "source": [
    "myvar = \"John\"\n",
    "my_var = \"John\"\n",
    "_my_var = \"John\"\n",
    "myVar = \"John\"\n",
    "MYVAR = \"John\"\n",
    "myvar2 = \"John\""
   ]
  },
  {
   "cell_type": "code",
   "execution_count": 4,
   "id": "11fa678e",
   "metadata": {},
   "outputs": [
    {
     "name": "stdout",
     "output_type": "stream",
     "text": [
      "Orange\n",
      "Banana\n",
      "Cherry\n"
     ]
    }
   ],
   "source": [
    "# Assignment of multiple variables\n",
    "\n",
    "x, y, z = \"Orange\", \"Banana\", \"Cherry\"  # IN Python it is possible\n",
    "\n",
    "# IN C  we have to do like this\n",
    "# x =  \"Orange\"\n",
    "# y = \"Banana\"\n",
    "# z = \"Cherry\" \n",
    "\n",
    "print(x)\n",
    "print(y)\n",
    "print(z)"
   ]
  },
  {
   "cell_type": "code",
   "execution_count": 5,
   "id": "ed858220",
   "metadata": {},
   "outputs": [
    {
     "name": "stdout",
     "output_type": "stream",
     "text": [
      "Orange\n",
      "Orange\n",
      "Orange\n"
     ]
    }
   ],
   "source": [
    "x = y = z = \"Orange\"\n",
    "print(x)\n",
    "print(y)\n",
    "print(z)"
   ]
  },
  {
   "cell_type": "code",
   "execution_count": 6,
   "id": "381eef54",
   "metadata": {},
   "outputs": [
    {
     "name": "stdout",
     "output_type": "stream",
     "text": [
      "34\n"
     ]
    }
   ],
   "source": [
    "x = input() # C - scanf(\"%d\",&x), C++ cin<<x, java -- Sys.in()"
   ]
  },
  {
   "cell_type": "code",
   "execution_count": 7,
   "id": "e8d9ef2b",
   "metadata": {},
   "outputs": [
    {
     "name": "stdout",
     "output_type": "stream",
     "text": [
      "Python is awesome\n",
      "60\n"
     ]
    }
   ],
   "source": [
    "x = \"Python \"\n",
    "y = \"is \"\n",
    "z = \"awesome\"\n",
    "a = 10\n",
    "b = 20\n",
    "c = 30\n",
    "print(x + y + z) # concatenate - one object multiple properties - Polymorphism - operator overloading \n",
    "print(a + b + c) # actual addition"
   ]
  },
  {
   "cell_type": "code",
   "execution_count": 8,
   "id": "ce4bdc68",
   "metadata": {},
   "outputs": [
    {
     "name": "stdout",
     "output_type": "stream",
     "text": [
      "Python 10\n"
     ]
    }
   ],
   "source": [
    "print(x+str(a))\n"
   ]
  },
  {
   "cell_type": "code",
   "execution_count": 9,
   "id": "5197f6af",
   "metadata": {},
   "outputs": [
    {
     "ename": "ValueError",
     "evalue": "invalid literal for int() with base 10: 'Python '",
     "output_type": "error",
     "traceback": [
      "\u001b[1;31m---------------------------------------------------------------------------\u001b[0m",
      "\u001b[1;31mValueError\u001b[0m                                Traceback (most recent call last)",
      "Cell \u001b[1;32mIn[9], line 1\u001b[0m\n\u001b[1;32m----> 1\u001b[0m \u001b[38;5;28mprint\u001b[39m(\u001b[38;5;28;43mint\u001b[39;49m\u001b[43m(\u001b[49m\u001b[43mx\u001b[49m\u001b[43m)\u001b[49m\u001b[38;5;241m+\u001b[39ma)\n",
      "\u001b[1;31mValueError\u001b[0m: invalid literal for int() with base 10: 'Python '"
     ]
    }
   ],
   "source": [
    "print(int(x)+a) # typecasting"
   ]
  },
  {
   "cell_type": "code",
   "execution_count": 10,
   "id": "6815edde",
   "metadata": {},
   "outputs": [
    {
     "name": "stdout",
     "output_type": "stream",
     "text": [
      "30\n"
     ]
    }
   ],
   "source": [
    "x = \" 10 \" # trimming \n",
    "y = 20\n",
    "print(int(x)+y) \n"
   ]
  },
  {
   "cell_type": "code",
   "execution_count": 11,
   "id": "2b06424f",
   "metadata": {},
   "outputs": [
    {
     "name": "stdout",
     "output_type": "stream",
     "text": [
      "Python is awesome\n",
      "Number is 10\n",
      "Number is awesome\n",
      "Python is awesome\n",
      "Number is 20\n",
      "Python is 20\n"
     ]
    }
   ],
   "source": [
    "x = \"awesome\"  # global Variable\n",
    "\n",
    "def myfunc1():\n",
    "    \n",
    "    y = 10\n",
    "    \n",
    "    print(\"Python is \" + x)\n",
    "    print(\"Number is \" + str(y))\n",
    "    print(\"Number is \" + str(z))    \n",
    "\n",
    "def myfunc2():\n",
    "    \n",
    "    z = 20\n",
    "    \n",
    "    print(\"Python is \" + x)\n",
    "    print(\"Number is \" + str(z))    \n",
    "    print(\"Python is \" + str(y))\n",
    "\n",
    "myfunc1()\n",
    "myfunc2()"
   ]
  }
 ],
 "metadata": {
  "kernelspec": {
   "display_name": "Python 3 (ipykernel)",
   "language": "python",
   "name": "python3"
  },
  "language_info": {
   "codemirror_mode": {
    "name": "ipython",
    "version": 3
   },
   "file_extension": ".py",
   "mimetype": "text/x-python",
   "name": "python",
   "nbconvert_exporter": "python",
   "pygments_lexer": "ipython3",
   "version": "3.10.9"
  }
 },
 "nbformat": 4,
 "nbformat_minor": 5
}
