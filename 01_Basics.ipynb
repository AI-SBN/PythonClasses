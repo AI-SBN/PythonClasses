{
 "cells": [
  {
   "cell_type": "markdown",
   "id": "f5417faa",
   "metadata": {},
   "source": [
    "#Python Basics"
   ]
  },
  {
   "cell_type": "code",
   "execution_count": 1,
   "id": "3efa4976",
   "metadata": {},
   "outputs": [
    {
     "name": "stdout",
     "output_type": "stream",
     "text": [
      "0\n",
      "1\n",
      "2\n",
      "3\n",
      "4\n",
      "5\n",
      "6\n",
      "7\n",
      "8\n",
      "9\n"
     ]
    }
   ],
   "source": [
    "for i in range(10):\n",
    " print(i)\n"
   ]
  },
  {
   "cell_type": "code",
   "execution_count": 2,
   "id": "e27712ab",
   "metadata": {},
   "outputs": [
    {
     "name": "stdout",
     "output_type": "stream",
     "text": [
      "Hello, World!\n",
      "Hello, World!\n",
      "Hello, World!\n",
      "Hello, World \n"
     ]
    }
   ],
   "source": [
    "#This is a comment.\n",
    "print(\"Hello, World!\")\n",
    "#This is a comment.\n",
    "print(\"Hello, World!\")\n",
    "#This is a comment.\n",
    "print(\"Hello, World!\")# we can comment here also\n",
    "\"\"\"\n",
    "\n",
    "we can write long comments\n",
    "we can write long comments\n",
    "we can write long comments\n",
    "we can write long comments\n",
    "\"\"\"\n",
    "print(\"Hello, World \")"
   ]
  },
  {
   "cell_type": "code",
   "execution_count": 3,
   "id": "c3494a00",
   "metadata": {},
   "outputs": [
    {
     "name": "stdout",
     "output_type": "stream",
     "text": [
      "33\n",
      "6\n",
      "3\n",
      "3\n",
      "3.0\n"
     ]
    }
   ],
   "source": [
    "x = str(3)\n",
    "y = int(3)\n",
    "z = float(3)\n",
    "a=x+str(y)  #a=x+str[y] ?\n",
    "b = int(x)+y\n",
    "print(a)\n",
    "print(b)\n",
    "print(x)\n",
    "print(y)\n",
    "print(z) \n"
   ]
  },
  {
   "cell_type": "code",
   "execution_count": 2,
   "id": "f2dc077d",
   "metadata": {},
   "outputs": [
    {
     "name": "stdout",
     "output_type": "stream",
     "text": [
      "********************************************************************************************************************************************************************************************************************************************************************************************************************************************************************************************************************************************************************************************************************\n"
     ]
    }
   ],
   "source": [
    "print(\"*\"*500)"
   ]
  },
  {
   "cell_type": "code",
   "execution_count": null,
   "id": "84c91a4c",
   "metadata": {},
   "outputs": [],
   "source": []
  }
 ],
 "metadata": {
  "kernelspec": {
   "display_name": "Python 3 (ipykernel)",
   "language": "python",
   "name": "python3"
  },
  "language_info": {
   "codemirror_mode": {
    "name": "ipython",
    "version": 3
   },
   "file_extension": ".py",
   "mimetype": "text/x-python",
   "name": "python",
   "nbconvert_exporter": "python",
   "pygments_lexer": "ipython3",
   "version": "3.9.13"
  }
 },
 "nbformat": 4,
 "nbformat_minor": 5
}
