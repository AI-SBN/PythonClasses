{
 "cells": [
  {
   "cell_type": "markdown",
   "id": "d148fd67",
   "metadata": {},
   "source": [
    "Variable Names\n",
    "\n",
    "A variable can have a short name (like x and y) or a more descriptive name (age, carname, total_volume). Rules for Python variables:\n",
    "\n",
    "A variable name must start with a letter or the underscore character\n",
    "\n",
    "A variable name cannot start with a number\n",
    "\n",
    "A variable name can only contain alpha-numeric characters and underscores (A-z, 0-9, and _ )\n",
    "\n",
    "Variable names are case-sensitive (age, Age and AGE are three different variables)\n",
    "\n",
    "A variable name cannot be any of the Python keywords."
   ]
  },
  {
   "cell_type": "code",
   "execution_count": 1,
   "id": "908f5a2e",
   "metadata": {},
   "outputs": [
    {
     "ename": "SyntaxError",
     "evalue": "invalid decimal literal (1887530478.py, line 7)",
     "output_type": "error",
     "traceback": [
      "\u001b[1;36m  Cell \u001b[1;32mIn[1], line 7\u001b[1;36m\u001b[0m\n\u001b[1;33m    23var = \"hhjk\" # wrong\u001b[0m\n\u001b[1;37m     ^\u001b[0m\n\u001b[1;31mSyntaxError\u001b[0m\u001b[1;31m:\u001b[0m invalid decimal literal\n"
     ]
    }
   ],
   "source": [
    "myvar = \"John\"\n",
    "my_var = \"John\"\n",
    "_my_var = \"John\"\n",
    "myVar = \"John\"\n",
    "MYVAR = \"John\"\n",
    "myvar2 = \"John\"\n",
    "23var = \"hhjk\" # wrong \n",
    "$myvar = \"fjjf\" # wrong"
   ]
  },
  {
   "cell_type": "code",
   "execution_count": 2,
   "id": "0c575871",
   "metadata": {},
   "outputs": [],
   "source": [
    "myvar = \"John\"\n",
    "my_var = \"John\"\n",
    "_my_var = \"John\"\n",
    "myVar = \"John\"\n",
    "MYVAR = \"John\"\n",
    "myvar2 = \"John\"\n"
   ]
  },
  {
   "cell_type": "markdown",
   "id": "4be6ab66",
   "metadata": {},
   "source": [
    "## Assignment of multiple variables "
   ]
  },
  {
   "cell_type": "code",
   "execution_count": 3,
   "id": "d5c94890",
   "metadata": {},
   "outputs": [
    {
     "name": "stdout",
     "output_type": "stream",
     "text": [
      "Orange\n",
      "Banana\n",
      "Cherry\n"
     ]
    }
   ],
   "source": [
    "x, y, z = \"Orange\", \"Banana\", \"Cherry\"  # IN Python it is possible\n",
    "\n",
    "# IN C  we have to do like this\n",
    "# x =  \"Orange\"\n",
    "# y = \"Banana\"\n",
    "# z = \"Cherry\" \n",
    "\n",
    "print(x)\n",
    "print(y)\n",
    "print(z)"
   ]
  },
  {
   "cell_type": "code",
   "execution_count": 4,
   "id": "38d8faff",
   "metadata": {},
   "outputs": [
    {
     "name": "stdout",
     "output_type": "stream",
     "text": [
      "Orange\n",
      "Orange\n",
      "Orange\n"
     ]
    }
   ],
   "source": [
    "x = y = z = \"Orange\"\n",
    "print(x)\n",
    "print(y)\n",
    "print(z)"
   ]
  },
  {
   "cell_type": "markdown",
   "id": "1b76538a",
   "metadata": {},
   "source": [
    "### Unpack a Collection (List) "
   ]
  },
  {
   "cell_type": "code",
   "execution_count": 5,
   "id": "2a41ce07",
   "metadata": {},
   "outputs": [
    {
     "name": "stdout",
     "output_type": "stream",
     "text": [
      "apple\n",
      "banana\n",
      "cherry\n"
     ]
    }
   ],
   "source": [
    "fruits = [\"apple\", \"banana\", \"cherry\"] # Data Structure (Important) - List, tuple, sets, dictionary, tree, arrays, pandas, generators \n",
    "x, y, z = fruits\n",
    "print(x)\n",
    "print(y)\n",
    "print(z)"
   ]
  },
  {
   "cell_type": "markdown",
   "id": "c7d30963",
   "metadata": {},
   "source": [
    "### Inputs and Outputs"
   ]
  },
  {
   "cell_type": "code",
   "execution_count": 6,
   "id": "1ee2c6d7",
   "metadata": {},
   "outputs": [
    {
     "name": "stdout",
     "output_type": "stream",
     "text": [
      "456\n"
     ]
    }
   ],
   "source": [
    "x = input() # C - scanf(\"%d\",&x), C++ cin<<x, java -- Sys.in()"
   ]
  },
  {
   "cell_type": "code",
   "execution_count": 7,
   "id": "df460c1f",
   "metadata": {},
   "outputs": [
    {
     "name": "stdout",
     "output_type": "stream",
     "text": [
      "456\n"
     ]
    }
   ],
   "source": [
    "print(x)  # printf(x), cout>>x , system.out.println()"
   ]
  },
  {
   "cell_type": "code",
   "execution_count": 8,
   "id": "d5dea047",
   "metadata": {},
   "outputs": [
    {
     "name": "stdout",
     "output_type": "stream",
     "text": [
      "Python is awesome\n",
      "60\n"
     ]
    }
   ],
   "source": [
    "x = \"Python \"\n",
    "y = \"is \"\n",
    "z = \"awesome\"\n",
    "a = 10\n",
    "b = 20\n",
    "c = 30\n",
    "print(x + y + z) # concatenate - one object multiple properties - Polymorphism - operator overloading \n",
    "print(a + b + c) # actual addition"
   ]
  },
  {
   "cell_type": "code",
   "execution_count": 9,
   "id": "36265a7c",
   "metadata": {},
   "outputs": [
    {
     "ename": "TypeError",
     "evalue": "can only concatenate str (not \"int\") to str",
     "output_type": "error",
     "traceback": [
      "\u001b[1;31m---------------------------------------------------------------------------\u001b[0m",
      "\u001b[1;31mTypeError\u001b[0m                                 Traceback (most recent call last)",
      "Cell \u001b[1;32mIn[9], line 1\u001b[0m\n\u001b[1;32m----> 1\u001b[0m \u001b[38;5;28mprint\u001b[39m(\u001b[43mx\u001b[49m\u001b[38;5;241;43m+\u001b[39;49m\u001b[43ma\u001b[49m)\n",
      "\u001b[1;31mTypeError\u001b[0m: can only concatenate str (not \"int\") to str"
     ]
    }
   ],
   "source": [
    "print(x+a) # x is string and a is int"
   ]
  },
  {
   "cell_type": "code",
   "execution_count": 10,
   "id": "6fa5b5e4",
   "metadata": {},
   "outputs": [
    {
     "name": "stdout",
     "output_type": "stream",
     "text": [
      "Python 10\n"
     ]
    }
   ],
   "source": [
    "print(x+str(a)) # typecasting"
   ]
  },
  {
   "cell_type": "code",
   "execution_count": 11,
   "id": "454f3771",
   "metadata": {},
   "outputs": [
    {
     "ename": "ValueError",
     "evalue": "invalid literal for int() with base 10: 'Python '",
     "output_type": "error",
     "traceback": [
      "\u001b[1;31m---------------------------------------------------------------------------\u001b[0m",
      "\u001b[1;31mValueError\u001b[0m                                Traceback (most recent call last)",
      "Cell \u001b[1;32mIn[11], line 1\u001b[0m\n\u001b[1;32m----> 1\u001b[0m \u001b[38;5;28mprint\u001b[39m(\u001b[38;5;28;43mint\u001b[39;49m\u001b[43m(\u001b[49m\u001b[43mx\u001b[49m\u001b[43m)\u001b[49m\u001b[38;5;241m+\u001b[39ma)\n",
      "\u001b[1;31mValueError\u001b[0m: invalid literal for int() with base 10: 'Python '"
     ]
    }
   ],
   "source": [
    "print(int(x)+a) # typecasting"
   ]
  },
  {
   "cell_type": "code",
   "execution_count": 18,
   "id": "41303a5a",
   "metadata": {},
   "outputs": [
    {
     "name": "stdout",
     "output_type": "stream",
     "text": [
      "30\n"
     ]
    }
   ],
   "source": [
    "x = \" 10 \" # trimming \n",
    "y = 20\n",
    "print(int(x)+y) "
   ]
  },
  {
   "cell_type": "markdown",
   "id": "077df1e8",
   "metadata": {},
   "source": [
    "### Global and Local Variables "
   ]
  },
  {
   "cell_type": "code",
   "execution_count": 23,
   "id": "8ca84728",
   "metadata": {},
   "outputs": [
    {
     "name": "stdout",
     "output_type": "stream",
     "text": [
      "Python is awesome\n",
      "Number is 10\n",
      "Number is awesome\n",
      "Python is awesome\n",
      "Number is 20\n",
      "Python is 20\n"
     ]
    }
   ],
   "source": [
    "x = \"awesome\"  # global Variable\n",
    "\n",
    "def myfunc1():\n",
    "    \n",
    "    y = 10\n",
    "    \n",
    "    print(\"Python is \" + x)\n",
    "    print(\"Number is \" + str(y))\n",
    "    print(\"Number is \" + str(z))    \n",
    "\n",
    "def myfunc2():\n",
    "    \n",
    "    z = 20\n",
    "    \n",
    "    print(\"Python is \" + x)\n",
    "    print(\"Number is \" + str(z))    \n",
    "    print(\"Python is \" + str(y))\n",
    "\n",
    "myfunc1()\n",
    "myfunc2()"
   ]
  },
  {
   "cell_type": "code",
   "execution_count": null,
   "id": "d92ee326",
   "metadata": {},
   "outputs": [],
   "source": []
  }
 ],
 "metadata": {
  "kernelspec": {
   "display_name": "Python 3 (ipykernel)",
   "language": "python",
   "name": "python3"
  },
  "language_info": {
   "codemirror_mode": {
    "name": "ipython",
    "version": 3
   },
   "file_extension": ".py",
   "mimetype": "text/x-python",
   "name": "python",
   "nbconvert_exporter": "python",
   "pygments_lexer": "ipython3",
   "version": "3.10.9"
  }
 },
 "nbformat": 4,
 "nbformat_minor": 5
}
