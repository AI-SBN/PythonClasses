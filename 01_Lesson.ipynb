{
 "cells": [
  {
   "cell_type": "code",
   "execution_count": 1,
   "id": "034211ca",
   "metadata": {},
   "outputs": [
    {
     "name": "stdout",
     "output_type": "stream",
     "text": [
      "Hello, World!\n",
      "Hello, World!\n",
      "Hello, World!\n",
      "Hello, World \n"
     ]
    }
   ],
   "source": [
    "#This is a comment.\n",
    "print(\"Hello, World!\")\n",
    "#This is a comment.\n",
    "print(\"Hello, World!\")\n",
    "#This is a comment.\n",
    "print(\"Hello, World!\")# we can comment here also\n",
    "\"\"\"\n",
    "\n",
    "we can write long comments\n",
    "we can write long comments\n",
    "we can write long comments\n",
    "we can write long comments\n",
    "\"\"\"\n",
    "print(\"Hello, World \")"
   ]
  },
  {
   "cell_type": "code",
   "execution_count": null,
   "id": "eb8c81c0",
   "metadata": {},
   "outputs": [],
   "source": []
  }
 ],
 "metadata": {
  "kernelspec": {
   "display_name": "Python 3 (ipykernel)",
   "language": "python",
   "name": "python3"
  },
  "language_info": {
   "codemirror_mode": {
    "name": "ipython",
    "version": 3
   },
   "file_extension": ".py",
   "mimetype": "text/x-python",
   "name": "python",
   "nbconvert_exporter": "python",
   "pygments_lexer": "ipython3",
   "version": "3.10.9"
  }
 },
 "nbformat": 4,
 "nbformat_minor": 5
}
