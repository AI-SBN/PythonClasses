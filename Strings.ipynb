{
 "cells": [
  {
   "cell_type": "markdown",
   "id": "29824a97",
   "metadata": {},
   "source": [
    "# Strings"
   ]
  },
  {
   "cell_type": "code",
   "execution_count": 2,
   "id": "567f0473",
   "metadata": {},
   "outputs": [
    {
     "name": "stdout",
     "output_type": "stream",
     "text": [
      "Hello\n",
      "Hello\n"
     ]
    }
   ],
   "source": [
    "print(\"Hello\") # double inverted qoutes\n",
    "print('Hello') # single inverted qoutes Press shift + enter"
   ]
  },
  {
   "cell_type": "code",
   "execution_count": 3,
   "id": "79214e91",
   "metadata": {},
   "outputs": [
    {
     "name": "stdout",
     "output_type": "stream",
     "text": [
      "Hello\n"
     ]
    }
   ],
   "source": [
    "a = \"Hello\"\n",
    "print(a)"
   ]
  },
  {
   "cell_type": "markdown",
   "id": "a3d0f054",
   "metadata": {},
   "source": [
    "### 2 ways to write multiline strings"
   ]
  },
  {
   "cell_type": "markdown",
   "id": "48cc2426",
   "metadata": {},
   "source": [
    "#### 1 - way"
   ]
  },
  {
   "cell_type": "code",
   "execution_count": 4,
   "id": "885b078a",
   "metadata": {},
   "outputs": [
    {
     "name": "stdout",
     "output_type": "stream",
     "text": [
      "Lorem ipsum dolor sit amet,consectetur adipiscing elit,sed do eiusmod tempor incididunt ut labore et dolore magna aliqua.\n"
     ]
    }
   ],
   "source": [
    "a = \"Lorem ipsum dolor sit amet,\\\n",
    "consectetur adipiscing elit,\\\n",
    "sed do eiusmod tempor incididunt \\\n",
    "ut labore et dolore magna aliqua.\" \n",
    "print(a)\n",
    "\n"
   ]
  },
  {
   "cell_type": "markdown",
   "id": "b1f25551",
   "metadata": {},
   "source": [
    "#### 2 - way"
   ]
  },
  {
   "cell_type": "code",
   "execution_count": 5,
   "id": "1e862aef",
   "metadata": {},
   "outputs": [
    {
     "name": "stdout",
     "output_type": "stream",
     "text": [
      "Lorem ipsum dolor sit amet,\n",
      "consectetur adipiscing elit,\n",
      "sed do eiusmod tempor incididunt\n",
      "ut labore et dolore magna aliqua.\n"
     ]
    }
   ],
   "source": [
    "a = \"\"\"Lorem ipsum dolor sit amet,\n",
    "consectetur adipiscing elit,\n",
    "sed do eiusmod tempor incididunt\n",
    "ut labore et dolore magna aliqua.\"\"\"\n",
    "print(a)"
   ]
  },
  {
   "cell_type": "code",
   "execution_count": 8,
   "id": "ac900465",
   "metadata": {},
   "outputs": [
    {
     "name": "stdout",
     "output_type": "stream",
     "text": [
      "Lorem ipsum dolor sit amet,\b consectetur adipiscing elit\n"
     ]
    }
   ],
   "source": [
    "a = \"Lorem ipsum dolor sit amet,\\b consectetur adipiscing elit\"\n",
    "\n",
    "print(a)"
   ]
  },
  {
   "cell_type": "markdown",
   "id": "9a6edb3f",
   "metadata": {},
   "source": [
    "#### Strings are Arrays ( NUmPY visit)"
   ]
  },
  {
   "cell_type": "markdown",
   "id": "bfbd72ca",
   "metadata": {},
   "source": [
    "array is a data structure (imp) which stores a collection of homgogeneous or elements of similar data types"
   ]
  },
  {
   "cell_type": "code",
   "execution_count": 2,
   "id": "76248b6b",
   "metadata": {},
   "outputs": [
    {
     "name": "stdout",
     "output_type": "stream",
     "text": [
      "e\n"
     ]
    }
   ],
   "source": [
    "a = \"Hello, World!\"  \n",
    "print(a[1]) \n"
   ]
  },
  {
   "cell_type": "markdown",
   "id": "65c7cb10",
   "metadata": {},
   "source": [
    "## not correct"
   ]
  },
  {
   "cell_type": "code",
   "execution_count": 3,
   "id": "8422d2e7",
   "metadata": {},
   "outputs": [
    {
     "name": "stdout",
     "output_type": "stream",
     "text": [
      " at position - i and letter - a[i]\n",
      " at position - i and letter - a[i]\n",
      " at position - i and letter - a[i]\n",
      " at position - i and letter - a[i]\n",
      " at position - i and letter - a[i]\n",
      " at position - i and letter - a[i]\n",
      " at position - i and letter - a[i]\n",
      " at position - i and letter - a[i]\n",
      " at position - i and letter - a[i]\n",
      " at position - i and letter - a[i]\n",
      " at position - i and letter - a[i]\n",
      " at position - i and letter - a[i]\n",
      " at position - i and letter - a[i]\n"
     ]
    }
   ],
   "source": [
    "for i in range(0, len(a)):\n",
    "    \n",
    "    print(f\" at position - i and letter - a[i]\")     # variable\n",
    "    "
   ]
  },
  {
   "cell_type": "markdown",
   "id": "d914e490",
   "metadata": {},
   "source": [
    "### correct"
   ]
  },
  {
   "cell_type": "code",
   "execution_count": 4,
   "id": "0470156d",
   "metadata": {},
   "outputs": [
    {
     "name": "stdout",
     "output_type": "stream",
     "text": [
      " at position - 0 and letter - H\n",
      " at position - 1 and letter - e\n",
      " at position - 2 and letter - l\n",
      " at position - 3 and letter - l\n",
      " at position - 4 and letter - o\n",
      " at position - 5 and letter - ,\n",
      " at position - 6 and letter -  \n",
      " at position - 7 and letter - W\n",
      " at position - 8 and letter - o\n",
      " at position - 9 and letter - r\n",
      " at position - 10 and letter - l\n",
      " at position - 11 and letter - d\n",
      " at position - 12 and letter - !\n"
     ]
    }
   ],
   "source": [
    "for i in range(0, len(a)):\n",
    "    \n",
    "    print(f\" at position - {i} and letter - {a[i]}\")     # variable\n",
    "    "
   ]
  },
  {
   "cell_type": "markdown",
   "id": "1609b4a8",
   "metadata": {},
   "source": [
    "### Reverse indexing  - important"
   ]
  },
  {
   "cell_type": "code",
   "execution_count": 5,
   "id": "bbf87914",
   "metadata": {},
   "outputs": [
    {
     "name": "stdout",
     "output_type": "stream",
     "text": [
      "!\n",
      "d\n",
      "l\n",
      "r\n"
     ]
    }
   ],
   "source": [
    "print(a[-1]) # a[10000] - a[-1]\n",
    "print(a[-2])\n",
    "print(a[-3])\n",
    "print(a[-4])"
   ]
  },
  {
   "cell_type": "code",
   "execution_count": 7,
   "id": "82a9860e",
   "metadata": {},
   "outputs": [
    {
     "name": "stdout",
     "output_type": "stream",
     "text": [
      "b\n",
      "a\n",
      "n\n",
      "a\n",
      "n\n",
      "a\n",
      "********************\n",
      "b\n",
      "a\n",
      "n\n",
      "a\n",
      "n\n",
      "a\n"
     ]
    }
   ],
   "source": [
    "for x in \"banana\":\n",
    "    print(x)  # indentation \n",
    "\n",
    "print(\"*\"*20)\n",
    "x = \"banana\"\n",
    "for i in range(0, len(x)):\n",
    "    print(x[i])  # indentation "
   ]
  },
  {
   "cell_type": "code",
   "execution_count": 9,
   "id": "316e6a40",
   "metadata": {},
   "outputs": [
    {
     "name": "stdout",
     "output_type": "stream",
     "text": [
      "b$$$a$$$n$$$a$$$n$$$a$$$"
     ]
    }
   ],
   "source": [
    "for x in \"banana\":\n",
    "    print(x, end='$$$')  # shift + tab "
   ]
  },
  {
   "cell_type": "markdown",
   "id": "b80da9e7",
   "metadata": {},
   "source": [
    "### Check string"
   ]
  },
  {
   "cell_type": "code",
   "execution_count": 19,
   "id": "5d4a9dfc",
   "metadata": {},
   "outputs": [
    {
     "name": "stdout",
     "output_type": "stream",
     "text": [
      "True\n"
     ]
    }
   ],
   "source": [
    "txt = \"The best things in life are free!\"  # main string\n",
    "\n",
    "print(\"free\" in txt)    # search operation"
   ]
  },
  {
   "cell_type": "code",
   "execution_count": 20,
   "id": "ee964157",
   "metadata": {},
   "outputs": [
    {
     "name": "stdout",
     "output_type": "stream",
     "text": [
      "False\n"
     ]
    }
   ],
   "source": [
    "txt = \"The best things in life are free!\"  # main string\n",
    "\n",
    "print(\"fire\" in txt)    # search operation"
   ]
  },
  {
   "cell_type": "code",
   "execution_count": 24,
   "id": "6aa43fc6",
   "metadata": {},
   "outputs": [
    {
     "name": "stdout",
     "output_type": "stream",
     "text": [
      "dts\n",
      "NO,  string is not present.\n"
     ]
    }
   ],
   "source": [
    "txt = \"The best things in life are free!\"\n",
    "\n",
    "x = input()   # reading input from user\n",
    "\n",
    "if x in txt:\n",
    "    print(\"Yes, string is present.\") \n",
    "else:\n",
    "    print(\"NO,  string is not present.\")"
   ]
  },
  {
   "cell_type": "code",
   "execution_count": 26,
   "id": "7a9263ee",
   "metadata": {},
   "outputs": [
    {
     "name": "stdout",
     "output_type": "stream",
     "text": [
      "bus\n",
      "NO, bus is not present.\n"
     ]
    }
   ],
   "source": [
    "txt = \"The best things in life are free!\"\n",
    "\n",
    "x = input()   # reading input from user\n",
    "\n",
    "if x in txt:\n",
    "    print(f\"Yes, {x}  is present.\") \n",
    "else:\n",
    "    print(f\"NO, {x} is not present.\")"
   ]
  },
  {
   "cell_type": "markdown",
   "id": "be1a3cb3",
   "metadata": {},
   "source": [
    "### NOT IN "
   ]
  },
  {
   "cell_type": "code",
   "execution_count": 27,
   "id": "d5ef86fd",
   "metadata": {},
   "outputs": [
    {
     "name": "stdout",
     "output_type": "stream",
     "text": [
      "True\n"
     ]
    }
   ],
   "source": [
    "txt = \"The best things in life are free!\"\n",
    "print(\"expensive\" not in txt)"
   ]
  },
  {
   "cell_type": "code",
   "execution_count": 28,
   "id": "31188cb4",
   "metadata": {},
   "outputs": [
    {
     "name": "stdout",
     "output_type": "stream",
     "text": [
      "False\n"
     ]
    }
   ],
   "source": [
    "txt = \"The best things in life are free!\"\n",
    "print(\"best\" not in txt)"
   ]
  },
  {
   "cell_type": "code",
   "execution_count": null,
   "id": "e6119163",
   "metadata": {},
   "outputs": [],
   "source": []
  }
 ],
 "metadata": {
  "kernelspec": {
   "display_name": "Python 3 (ipykernel)",
   "language": "python",
   "name": "python3"
  },
  "language_info": {
   "codemirror_mode": {
    "name": "ipython",
    "version": 3
   },
   "file_extension": ".py",
   "mimetype": "text/x-python",
   "name": "python",
   "nbconvert_exporter": "python",
   "pygments_lexer": "ipython3",
   "version": "3.10.6"
  }
 },
 "nbformat": 4,
 "nbformat_minor": 5
}
