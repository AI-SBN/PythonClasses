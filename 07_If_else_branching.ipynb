{
 "cells": [
  {
   "cell_type": "markdown",
   "id": "814d8390",
   "metadata": {},
   "source": [
    "## If else blocks"
   ]
  },
  {
   "cell_type": "markdown",
   "id": "5da45716",
   "metadata": {},
   "source": [
    "<li> conditional branching </li> \n",
    "<li> unconditional branching </li>"
   ]
  },
  {
   "cell_type": "code",
   "execution_count": 12,
   "id": "c37dd03e",
   "metadata": {},
   "outputs": [],
   "source": [
    "import numpy as np"
   ]
  },
  {
   "cell_type": "code",
   "execution_count": 1,
   "id": "d135901c",
   "metadata": {},
   "outputs": [
    {
     "name": "stdout",
     "output_type": "stream",
     "text": [
      "a and b are equal\n"
     ]
    }
   ],
   "source": [
    "a = 33\n",
    "b = 33\n",
    "\n",
    "if b > a:  # operator 1    \n",
    "  print(\"b is greater than a\")\n",
    "elif a == b: # operator 2\n",
    "  print(\"a and b are equal\")"
   ]
  },
  {
   "cell_type": "code",
   "execution_count": 6,
   "id": "68a70dda",
   "metadata": {},
   "outputs": [
    {
     "name": "stdout",
     "output_type": "stream",
     "text": [
      "99\n",
      "print greater than 40\n"
     ]
    }
   ],
   "source": [
    "a = int(input()) # type casting\n",
    "\n",
    "if a < 10:\n",
    "    print(\"a is less than 10\") # block 1\n",
    "\n",
    "elif a > 10 and a <20:\n",
    "    print(\"a is between 10 and 20\") # block 2\n",
    "\n",
    "elif a > 20 and a <30:\n",
    "    print(\"a is between 20 and 30\") # block 3\n",
    "    \n",
    "elif a > 30 and a <40:\n",
    "    print(\"a is between 30 and 40\") # block 4\n",
    "\n",
    "else:\n",
    "    print(\"print greater than 40\") # block 5"
   ]
  },
  {
   "cell_type": "code",
   "execution_count": 11,
   "id": "16739b50",
   "metadata": {},
   "outputs": [
    {
     "name": "stdout",
     "output_type": "stream",
     "text": [
      "#\n",
      "ascii value 35\n",
      "a is between 30 and 40\n"
     ]
    }
   ],
   "source": [
    "a = ord(input()) # type casting\n",
    "print(\"ascii value\", a)\n",
    "\n",
    "if a < 10:\n",
    "    print(\"a is less than 10\") # block 1\n",
    "\n",
    "elif a > 10 and a <20:\n",
    "    print(\"a is between 10 and 20\") # block 2\n",
    "\n",
    "elif a > 20 and a <30:\n",
    "    print(\"a is between 20 and 30\") # block 3\n",
    "    \n",
    "elif a > 30 and a <40:\n",
    "    print(\"a is between 30 and 40\") # block 4\n",
    "\n",
    "else:\n",
    "    print(\"print greater than 40\") # block 5"
   ]
  },
  {
   "cell_type": "code",
   "execution_count": 13,
   "id": "9344efc4",
   "metadata": {},
   "outputs": [
    {
     "data": {
      "text/plain": [
       "array(['1983', '319', '45', '9'], dtype='<U4')"
      ]
     },
     "execution_count": 13,
     "metadata": {},
     "output_type": "execute_result"
    }
   ],
   "source": [
    "np.sort(['319','45','1983','9'])  # shift + tab"
   ]
  },
  {
   "cell_type": "code",
   "execution_count": 14,
   "id": "4b021c00",
   "metadata": {},
   "outputs": [
    {
     "data": {
      "text/plain": [
       "array(['Ball', 'apple', 'cat'], dtype='<U5')"
      ]
     },
     "execution_count": 14,
     "metadata": {},
     "output_type": "execute_result"
    }
   ],
   "source": [
    "np.sort(['apple', 'Ball', 'cat']) "
   ]
  },
  {
   "cell_type": "code",
   "execution_count": 16,
   "id": "7e138804",
   "metadata": {},
   "outputs": [
    {
     "data": {
      "text/plain": [
       "array(['App', 'Apple', 'apple'], dtype='<U5')"
      ]
     },
     "execution_count": 16,
     "metadata": {},
     "output_type": "execute_result"
    }
   ],
   "source": [
    "np.sort(['apple', 'Apple', 'App']) # "
   ]
  },
  {
   "cell_type": "markdown",
   "id": "7ed1849e",
   "metadata": {},
   "source": [
    "### Q1 -> find smallest of 4 numbers a,b,c,d\n",
    "\n",
    "a = int(input())\n",
    "b = int(input())\n",
    "c = int(input())\n",
    "d = int(input())\n",
    "\n",
    "56, 4, 77, 8\n"
   ]
  },
  {
   "cell_type": "code",
   "execution_count": null,
   "id": "0c1d55fa",
   "metadata": {},
   "outputs": [],
   "source": []
  }
 ],
 "metadata": {
  "kernelspec": {
   "display_name": "Python 3 (ipykernel)",
   "language": "python",
   "name": "python3"
  },
  "language_info": {
   "codemirror_mode": {
    "name": "ipython",
    "version": 3
   },
   "file_extension": ".py",
   "mimetype": "text/x-python",
   "name": "python",
   "nbconvert_exporter": "python",
   "pygments_lexer": "ipython3",
   "version": "3.10.6"
  }
 },
 "nbformat": 4,
 "nbformat_minor": 5
}
