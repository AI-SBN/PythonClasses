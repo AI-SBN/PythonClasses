{
 "cells": [
  {
   "cell_type": "markdown",
   "id": "119fd3fd",
   "metadata": {},
   "source": [
    "### ascii values"
   ]
  },
  {
   "cell_type": "code",
   "execution_count": 5,
   "id": "4e7ba5b3",
   "metadata": {},
   "outputs": [
    {
     "name": "stdout",
     "output_type": "stream",
     "text": [
      "65\n"
     ]
    }
   ],
   "source": [
    "# to print ascii values\n",
    "print(ord('A'))"
   ]
  },
  {
   "cell_type": "code",
   "execution_count": 7,
   "id": "31966376",
   "metadata": {},
   "outputs": [
    {
     "name": "stdout",
     "output_type": "stream",
     "text": [
      "A 65\n",
      "B 66\n",
      "a 97\n",
      "b 98\n"
     ]
    }
   ],
   "source": [
    "for item in ['A', 'B', 'a','b']:\n",
    "    print(item, ord(item))"
   ]
  },
  {
   "cell_type": "code",
   "execution_count": null,
   "id": "f89c18c4",
   "metadata": {},
   "outputs": [],
   "source": []
  }
 ],
 "metadata": {
  "kernelspec": {
   "display_name": "Python 3 (ipykernel)",
   "language": "python",
   "name": "python3"
  },
  "language_info": {
   "codemirror_mode": {
    "name": "ipython",
    "version": 3
   },
   "file_extension": ".py",
   "mimetype": "text/x-python",
   "name": "python",
   "nbconvert_exporter": "python",
   "pygments_lexer": "ipython3",
   "version": "3.10.6"
  }
 },
 "nbformat": 4,
 "nbformat_minor": 5
}
