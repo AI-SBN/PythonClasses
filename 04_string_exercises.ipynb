{
 "cells": [
  {
   "cell_type": "markdown",
   "id": "910d3cf2",
   "metadata": {},
   "source": [
    "### ascii values"
   ]
  },
  {
   "cell_type": "code",
   "execution_count": 5,
   "id": "e3256d36",
   "metadata": {},
   "outputs": [
    {
     "name": "stdout",
     "output_type": "stream",
     "text": [
      "65\n"
     ]
    }
   ],
   "source": [
    "# to print ascii values\n",
    "print(ord('A'))"
   ]
  },
  {
   "cell_type": "code",
   "execution_count": 7,
   "id": "1e645d9e",
   "metadata": {},
   "outputs": [
    {
     "name": "stdout",
     "output_type": "stream",
     "text": [
      "A 65\n",
      "B 66\n",
      "a 97\n",
      "b 98\n"
     ]
    }
   ],
   "source": [
    "for item in ['A', 'B', 'a','b']:\n",
    "    print(item, ord(item))"
   ]
  },
  {
   "cell_type": "markdown",
   "id": "a07f08ba",
   "metadata": {},
   "source": [
    "### Read inputs from terminal"
   ]
  },
  {
   "cell_type": "code",
   "execution_count": 12,
   "id": "dc879df1",
   "metadata": {},
   "outputs": [
    {
     "name": "stdout",
     "output_type": "stream",
     "text": [
      "34\n",
      "8\n",
      "8 greater\n"
     ]
    }
   ],
   "source": [
    "a = input()\n",
    "b = input()\n",
    "\n",
    "if a>b :\n",
    "    print(a, \"greater\")\n",
    "else:\n",
    "    print(b, 'greater')"
   ]
  },
  {
   "cell_type": "code",
   "execution_count": 11,
   "id": "2b4b264c",
   "metadata": {},
   "outputs": [
    {
     "name": "stdout",
     "output_type": "stream",
     "text": [
      "34\n",
      "8\n",
      "34 greater\n"
     ]
    }
   ],
   "source": [
    "a = int(input())\n",
    "b = int(input())\n",
    "\n",
    "if a>b :\n",
    "    print(a, \"greater\")\n",
    "else:\n",
    "    print(b, 'greater')"
   ]
  },
  {
   "cell_type": "code",
   "execution_count": null,
   "id": "0ed5ef44",
   "metadata": {},
   "outputs": [],
   "source": []
  }
 ],
 "metadata": {
  "kernelspec": {
   "display_name": "Python 3 (ipykernel)",
   "language": "python",
   "name": "python3"
  },
  "language_info": {
   "codemirror_mode": {
    "name": "ipython",
    "version": 3
   },
   "file_extension": ".py",
   "mimetype": "text/x-python",
   "name": "python",
   "nbconvert_exporter": "python",
   "pygments_lexer": "ipython3",
   "version": "3.10.6"
  }
 },
 "nbformat": 4,
 "nbformat_minor": 5
}
