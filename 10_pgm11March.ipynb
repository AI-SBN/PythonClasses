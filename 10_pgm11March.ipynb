{
  "nbformat": 4,
  "nbformat_minor": 0,
  "metadata": {
    "colab": {
      "provenance": []
    },
    "kernelspec": {
      "name": "python3",
      "display_name": "Python 3"
    },
    "language_info": {
      "name": "python"
    }
  },
  "cells": [
    {
      "cell_type": "code",
      "execution_count": null,
      "metadata": {
        "id": "m0xqevReT1Tr",
        "colab": {
          "base_uri": "https://localhost:8080/"
        },
        "outputId": "2005f4b9-5588-44eb-8d6d-f3adc0eeac24"
      },
      "outputs": [
        {
          "output_type": "stream",
          "name": "stdout",
          "text": [
            "Python\n"
          ]
        }
      ],
      "source": [
        "print(\"Python\")"
      ]
    },
    {
      "cell_type": "markdown",
      "source": [],
      "metadata": {
        "id": "ZnlJmJYWD1aH"
      }
    },
    {
      "cell_type": "code",
      "source": [
        "a=10\n",
        "b=20\n",
        "print(\"Before Swapping a=\",a)\n",
        "print(\"Before Swapping b=\",b)\n",
        "temp=a\n",
        "a=b\n",
        "b=temp\n",
        "print(\"After Swapping a=\",a)\n",
        "print(\"After Swapping b=\",b)\n"
      ],
      "metadata": {
        "colab": {
          "base_uri": "https://localhost:8080/"
        },
        "id": "mx7r3eD7EpQZ",
        "outputId": "33bddb7a-5d78-462a-94b9-f97bea3afdc8"
      },
      "execution_count": 4,
      "outputs": [
        {
          "output_type": "stream",
          "name": "stdout",
          "text": [
            "Before Swapping a= 10\n",
            "Before Swapping b= 20\n",
            "After Swapping a= 20\n",
            "After Swapping b= 10\n"
          ]
        }
      ]
    },
    {
      "cell_type": "code",
      "source": [
        "a=10\n",
        "b=20\n",
        "print(\"Before Swapping a=\",a)\n",
        "print(\"Before Swapping b=\",b)\n",
        "a=a-b\n",
        "b=a+b\n",
        "a=b-a\n",
        "print(\"After Swapping a=\",a)\n",
        "print(\"After Swapping b=\",b)\n"
      ],
      "metadata": {
        "colab": {
          "base_uri": "https://localhost:8080/"
        },
        "id": "iwe35I9bFB9U",
        "outputId": "93fa14bd-173d-41d4-f233-0d085f23b027"
      },
      "execution_count": 3,
      "outputs": [
        {
          "output_type": "stream",
          "name": "stdout",
          "text": [
            "Before Swapping a= 10\n",
            "Before Swapping b= 20\n",
            "After Swapping a= 20\n",
            "After Swapping b= 10\n"
          ]
        }
      ]
    }
  ]
}